{
 "cells": [
  {
   "cell_type": "markdown",
   "metadata": {},
   "source": [
    "# SIS on TF Binding Data\n",
    "\n",
    "## Aggregate Analysis of Pipelined Data on Motif Occupancy Task"
   ]
  },
  {
   "cell_type": "code",
   "execution_count": 3,
   "metadata": {},
   "outputs": [],
   "source": [
    "import numpy as np\n",
    "from matplotlib import pyplot as plt\n",
    "import seaborn as sns\n",
    "sns.set(style='whitegrid')\n",
    "import pandas as pd\n",
    "import os\n",
    "import sys\n",
    "sys.path.insert(0, os.path.abspath('..'))\n",
    "\n",
    "from scipy.stats import ranksums\n",
    "\n",
    "import tf_binding as tf_binding\n",
    "from tf_binding_launcher import get_datasets"
   ]
  },
  {
   "cell_type": "code",
   "execution_count": 4,
   "metadata": {},
   "outputs": [],
   "source": [
    "occupancy_results_basepath = '../rationale_results/motif/motif_occupancy'"
   ]
  },
  {
   "cell_type": "code",
   "execution_count": 5,
   "metadata": {},
   "outputs": [],
   "source": [
    "figures_dir = '../figures/tf_binding'"
   ]
  },
  {
   "cell_type": "code",
   "execution_count": 7,
   "metadata": {},
   "outputs": [
    {
     "name": "stdout",
     "output_type": "stream",
     "text": [
      "# occupancy datasets:  422\n"
     ]
    }
   ],
   "source": [
    "motif_occupancy_data_basepath = '../data/motif/data/motif_occupancy'\n",
    "occupancy_datasets = get_datasets(motif_occupancy_data_basepath)\n",
    "print('# occupancy datasets: ', len(occupancy_datasets))"
   ]
  },
  {
   "cell_type": "code",
   "execution_count": 8,
   "metadata": {},
   "outputs": [],
   "source": [
    "# Stats on number of sequences in each dataset\n",
    "\n",
    "train_sizes = []\n",
    "test_sizes = []\n",
    "\n",
    "for dataset in occupancy_datasets:\n",
    "    train_data_path = os.path.join(motif_occupancy_data_basepath, dataset, 'train.data')\n",
    "    test_data_path = os.path.join(motif_occupancy_data_basepath, dataset, 'test.data')\n",
    "    train_size = len(tf_binding.load_tf_data(train_data_path))\n",
    "    test_size = len(tf_binding.load_tf_data(test_data_path))\n",
    "    train_sizes.append(train_size)\n",
    "    test_sizes.append(test_size)"
   ]
  },
  {
   "cell_type": "code",
   "execution_count": 9,
   "metadata": {},
   "outputs": [
    {
     "name": "stdout",
     "output_type": "stream",
     "text": [
      "Train size mean:  68044.20853080568\n",
      "Train size median:  48694.0\n",
      "Train size min:  600\n",
      "Train size max:  692340\n",
      "\n",
      "Test size mean:  17011.52606635071\n",
      "Test size median:  12174.0\n",
      "Test size min:  150\n",
      "Test size max:  173086\n"
     ]
    }
   ],
   "source": [
    "print('Train size mean: ', np.mean(train_sizes))\n",
    "print('Train size median: ', np.median(train_sizes))\n",
    "print('Train size min: ', np.min(train_sizes))\n",
    "print('Train size max: ', np.max(train_sizes))\n",
    "print()\n",
    "print('Test size mean: ', np.mean(test_sizes))\n",
    "print('Test size median: ', np.median(test_sizes))\n",
    "print('Test size min: ', np.min(test_sizes))\n",
    "print('Test size max: ', np.max(test_sizes))"
   ]
  },
  {
   "cell_type": "code",
   "execution_count": 10,
   "metadata": {},
   "outputs": [
    {
     "name": "stdout",
     "output_type": "stream",
     "text": [
      "# Bad, Occupancy:  0\n"
     ]
    }
   ],
   "source": [
    "# Count number of problematic outputs in occupancy task\n",
    "bad = 0\n",
    "for dataset in occupancy_datasets:\n",
    "    path = os.path.join(occupancy_results_basepath, dataset)\n",
    "    if 'rationales.html' not in os.listdir(path):  # didn't produce rationales html, something wrong\n",
    "        bad += 1\n",
    "\n",
    "print('# Bad, Occupancy: ', bad)"
   ]
  },
  {
   "cell_type": "markdown",
   "metadata": {},
   "source": [
    "## Classifier Performance"
   ]
  },
  {
   "cell_type": "code",
   "execution_count": 11,
   "metadata": {},
   "outputs": [
    {
     "data": {
      "image/png": "[encoded data removed]",
      "text/plain": [
       "<Figure size 288x180 with 1 Axes>"
      ]
     },
     "metadata": {},
     "output_type": "display_data"
    },
    {
     "name": "stdout",
     "output_type": "stream",
     "text": [
      "Num datasets:  422\n",
      "\n",
      "Median AUC, Train:  0.869\n",
      "Median AUC, Val:  0.809\n",
      "Median AUC, Test:  0.797\n"
     ]
    }
   ],
   "source": [
    "train_aucs = []\n",
    "val_aucs = []\n",
    "test_aucs = []\n",
    "\n",
    "for dataset in occupancy_datasets:\n",
    "    train_stats_path = os.path.join(occupancy_results_basepath, dataset, 'train_stats.json')\n",
    "    train_stats = tf_binding.load_stats(train_stats_path)\n",
    "    train_aucs.append(train_stats['train']['auc'])\n",
    "    val_aucs.append(train_stats['val']['auc'])\n",
    "    test_aucs.append(train_stats['test']['auc'])\n",
    "\n",
    "auc_df = pd.DataFrame({'Train': train_aucs, 'Val': val_aucs, 'Test': test_aucs})\n",
    "\n",
    "plt.figure(figsize=(4, 2.5))\n",
    "sns.boxplot(data=auc_df, orient='h', order=['Train', 'Val', 'Test'])\n",
    "plt.xlabel('AUC')\n",
    "plt.tight_layout()\n",
    "plt.savefig(os.path.join(figures_dir, 'auc_occupancy.png'), dpi=1200, bbox_inches='tight')\n",
    "plt.show()\n",
    "\n",
    "print('Num datasets: ', len(train_aucs))\n",
    "print()\n",
    "print('Median AUC, Train:  %.3f' % np.median(train_aucs))\n",
    "print('Median AUC, Val:  %.3f' % np.median(val_aucs))\n",
    "print('Median AUC, Test:  %.3f' % np.median(test_aucs))"
   ]
  },
  {
   "cell_type": "markdown",
   "metadata": {},
   "source": [
    "## Thresholds Selected (90th Percentile of Test Set Predictive Distributions)"
   ]
  },
  {
   "cell_type": "code",
   "execution_count": 26,
   "metadata": {},
   "outputs": [
    {
     "data": {
      "image/png": "[encoded data removed]",
      "text/plain": [
       "<Figure size 288x180 with 1 Axes>"
      ]
     },
     "metadata": {},
     "output_type": "display_data"
    }
   ],
   "source": [
    "thresholds_occupancy = []\n",
    "\n",
    "for dataset in occupancy_datasets:\n",
    "    train_stats_path = os.path.join(occupancy_results_basepath, dataset, 'train_stats.json')\n",
    "    train_stats = tf_binding.load_stats(train_stats_path)\n",
    "    thresholds_occupancy.append(train_stats['threshold'])\n",
    "\n",
    "thresholds_occupancy = np.array(thresholds_occupancy)\n",
    "\n",
    "# Threshold plot\n",
    "plt.figure(figsize=(4, 2.5))\n",
    "plt.hist(thresholds_occupancy, bins=25, alpha=1.0)\n",
    "plt.xlabel('Threshold')\n",
    "plt.ylabel('Frequency')\n",
    "plt.grid(False)\n",
    "plt.tight_layout()\n",
    "plt.savefig(os.path.join(figures_dir, 'thresholds_hist.png'), dpi=1200, bbox_inches='tight')\n",
    "plt.show()"
   ]
  },
  {
   "cell_type": "markdown",
   "metadata": {},
   "source": [
    "## Rationale Lengths"
   ]
  },
  {
   "cell_type": "code",
   "execution_count": 15,
   "metadata": {},
   "outputs": [
    {
     "data": {
      "image/png": "[encoded data removed]",
      "text/plain": [
       "<Figure size 306x216 with 1 Axes>"
      ]
     },
     "metadata": {},
     "output_type": "display_data"
    },
    {
     "name": "stdout",
     "output_type": "stream",
     "text": [
      "# Datasets aggregated = 422\n",
      "\n",
      "Median of medians, SIS:  12.0\n",
      "Median of medians, IG:  30.0\n",
      "Median of medians, Top IG:  8.0\n",
      "Median of medians, IG Fixed Length:  12.0\n",
      "Median of medians, LIME Fixed Length:  12.0\n",
      "Median of medians, Perturb. Fixed Length:  12.0\n",
      "\n",
      "SIS vs. IG:  RanksumsResult(statistic=-18.500237547217388, pvalue=2.0556595913546008e-76)\n",
      "SIS vs. Top IG:  RanksumsResult(statistic=9.854716465495686, pvalue=6.540102241385525e-23)\n",
      "SIS vs. IG Fixed Length:  RanksumsResult(statistic=-0.17776471136985555, pvalue=0.8589077621382655)\n",
      "SIS vs. LIME Fixed Length:  RanksumsResult(statistic=-0.17776471136985555, pvalue=0.8589077621382655)\n",
      "SIS vs. Perturb. Fixed Length:  RanksumsResult(statistic=-0.17776471136985555, pvalue=0.8589077621382655)\n"
     ]
    }
   ],
   "source": [
    "median_rationale_length_sis = []\n",
    "median_rationale_length_ig = []\n",
    "median_rationale_length_top_ig = []\n",
    "median_rationale_length_ig_fixed_length = []\n",
    "median_rationale_length_lime_fixed_length = []\n",
    "median_rationale_length_pert_fixed_length = []\n",
    "\n",
    "median_rationale_only_preds_sis = []\n",
    "median_rationale_only_preds_ig = []\n",
    "median_rationale_only_preds_top_ig = []\n",
    "median_rationale_only_preds_ig_fixed_length = []\n",
    "median_rationale_only_preds_lime_fixed_length = []\n",
    "median_rationale_only_preds_pert_fixed_length = []\n",
    "\n",
    "for dataset in occupancy_datasets:\n",
    "    stats_path = os.path.join(occupancy_results_basepath, dataset, 'stats.json')\n",
    "    stats = tf_binding.load_stats(stats_path)\n",
    "    median_rationale_length_sis.append(stats['rationale_lengths']['sis']['median'])\n",
    "    median_rationale_length_ig.append(stats['rationale_lengths']['ig']['median'])\n",
    "    median_rationale_length_top_ig.append(stats['rationale_lengths']['top_ig']['median'])\n",
    "    median_rationale_length_ig_fixed_length.append(stats['rationale_lengths']['fixed_length_ig']['median'])\n",
    "    median_rationale_length_lime_fixed_length.append(stats['rationale_lengths']['fixed_length_lime']['median'])\n",
    "    median_rationale_length_pert_fixed_length.append(stats['rationale_lengths']['fixed_length_pert']['median'])\n",
    "\n",
    "    median_rationale_only_preds_sis.append(stats['rationale_only_predictions']['sis']['median'])\n",
    "    median_rationale_only_preds_ig.append(stats['rationale_only_predictions']['ig']['median'])\n",
    "    median_rationale_only_preds_top_ig.append(stats['rationale_only_predictions']['top_ig']['median'])\n",
    "    median_rationale_only_preds_ig_fixed_length.append(stats['rationale_only_predictions']['ig_fixed_length']['median'])\n",
    "    median_rationale_only_preds_lime_fixed_length.append(stats['rationale_only_predictions']['lime_fixed_length']['median'])\n",
    "    median_rationale_only_preds_pert_fixed_length.append(stats['rationale_only_predictions']['pert_fixed_length']['median'])\n",
    "\n",
    "median_rationale_length_sis = np.array(median_rationale_length_sis)\n",
    "median_rationale_length_ig = np.array(median_rationale_length_ig)\n",
    "median_rationale_length_top_ig = np.array(median_rationale_length_top_ig)\n",
    "median_rationale_length_ig_fixed_length = np.array(median_rationale_length_ig_fixed_length)\n",
    "median_rationale_length_lime_fixed_length = np.array(median_rationale_length_lime_fixed_length)\n",
    "median_rationale_length_pert_fixed_length = np.array(median_rationale_length_pert_fixed_length)\n",
    "\n",
    "median_rationale_only_preds_sis = np.array(median_rationale_only_preds_sis)\n",
    "median_rationale_only_preds_ig = np.array(median_rationale_only_preds_ig)\n",
    "median_rationale_only_preds_top_ig = np.array(median_rationale_only_preds_top_ig)\n",
    "median_rationale_only_preds_ig_fixed_length = np.array(median_rationale_only_preds_ig_fixed_length)\n",
    "median_rationale_only_preds_lime_fixed_length = np.array(median_rationale_only_preds_lime_fixed_length)\n",
    "median_rationale_only_preds_pert_fixed_length = np.array(median_rationale_only_preds_pert_fixed_length)\n",
    "\n",
    "rationale_len_df = pd.DataFrame({'SIS': median_rationale_length_sis,\n",
    "                                 'Suff. IG': median_rationale_length_ig,\n",
    "                                 'Top IG': median_rationale_length_top_ig,\n",
    "                                 'IG': median_rationale_length_ig_fixed_length,\n",
    "                                 'LIME': median_rationale_length_lime_fixed_length,\n",
    "                                 'Perturb.': median_rationale_length_pert_fixed_length})\n",
    "\n",
    "# Boxplot\n",
    "plt.figure(figsize=(4.25, 3.0))\n",
    "sns.boxplot(data=rationale_len_df, orient='h',\n",
    "            order=['SIS', 'Suff. IG', 'Top IG', 'IG', 'LIME', 'Perturb.'])\n",
    "plt.xlabel('# of Bases in Rationales')\n",
    "plt.tight_layout()\n",
    "plt.savefig(os.path.join(figures_dir, 'rationale_lengths_boxplot.png'), dpi=1200, bbox_inches='tight')\n",
    "plt.show()\n",
    "\n",
    "print('# Datasets aggregated =', len(median_rationale_length_sis))\n",
    "print()\n",
    "print('Median of medians, SIS: ', np.median(median_rationale_length_sis))\n",
    "print('Median of medians, IG: ', np.median(median_rationale_length_ig))\n",
    "print('Median of medians, Top IG: ', np.median(median_rationale_length_top_ig))\n",
    "print('Median of medians, IG Fixed Length: ', np.median(median_rationale_length_ig_fixed_length))\n",
    "print('Median of medians, LIME Fixed Length: ', np.median(median_rationale_length_lime_fixed_length))\n",
    "print('Median of medians, Perturb. Fixed Length: ', np.median(median_rationale_length_pert_fixed_length))\n",
    "print()\n",
    "print('SIS vs. IG: ', ranksums(median_rationale_length_sis, median_rationale_length_ig))\n",
    "print('SIS vs. Top IG: ', ranksums(median_rationale_length_sis, median_rationale_length_top_ig))\n",
    "print('SIS vs. IG Fixed Length: ', ranksums(median_rationale_length_sis, median_rationale_length_ig_fixed_length))\n",
    "print('SIS vs. LIME Fixed Length: ', ranksums(median_rationale_length_sis, median_rationale_length_lime_fixed_length))\n",
    "print('SIS vs. Perturb. Fixed Length: ', ranksums(median_rationale_length_sis, median_rationale_length_pert_fixed_length))"
   ]
  },
  {
   "cell_type": "code",
   "execution_count": 16,
   "metadata": {},
   "outputs": [
    {
     "data": {
      "image/png": "[encoded data removed]",
      "text/plain": [
       "<Figure size 306x216 with 1 Axes>"
      ]
     },
     "metadata": {},
     "output_type": "display_data"
    }
   ],
   "source": [
    "plt.figure(figsize=(4.25, 3.0))\n",
    "plt.scatter(median_rationale_length_sis, median_rationale_only_preds_sis,\n",
    "            alpha=0.40, s=9, c='black', marker='o', label='SIS')\n",
    "plt.scatter(median_rationale_length_ig, median_rationale_only_preds_ig,\n",
    "            alpha=0.13, s=9, c=sns.color_palette()[1], marker='^', label='Suff. IG')\n",
    "plt.scatter(median_rationale_length_top_ig, median_rationale_only_preds_top_ig,\n",
    "            alpha=0.13, s=9, c=sns.color_palette()[2], marker='v', label='Top IG')\n",
    "plt.scatter(median_rationale_length_ig_fixed_length, median_rationale_only_preds_ig_fixed_length,\n",
    "            alpha=0.13, s=9, c=sns.color_palette()[3], marker='<', label='IG')\n",
    "plt.scatter(median_rationale_length_lime_fixed_length, median_rationale_only_preds_lime_fixed_length,\n",
    "            alpha=0.13, s=9, c=sns.color_palette()[4], marker='>', label='LIME')\n",
    "plt.scatter(median_rationale_length_pert_fixed_length, median_rationale_only_preds_pert_fixed_length,\n",
    "            alpha=0.13, s=9, c=sns.color_palette()[5], marker='s', label='Perturb')\n",
    "plt.xlabel('Rationale Length')\n",
    "plt.ylabel('Prediction on Rationale Only')\n",
    "plt.grid(False)\n",
    "leg = plt.legend(loc='lower right', frameon=True, markerscale=2, fontsize=9)\n",
    "for lh in leg.legendHandles: \n",
    "    lh.set_alpha(1)\n",
    "plt.tight_layout()\n",
    "plt.savefig(os.path.join(figures_dir, 'rationale_prediction_vs_length.png'), dpi=1200, bbox_inches='tight')\n",
    "plt.show()"
   ]
  },
  {
   "cell_type": "markdown",
   "metadata": {},
   "source": [
    "## Perturbation Analysis"
   ]
  },
  {
   "cell_type": "code",
   "execution_count": 17,
   "metadata": {},
   "outputs": [
    {
     "name": "stdout",
     "output_type": "stream",
     "text": [
      "# Datasets aggregated = 422\n",
      "\n",
      "Median of medians, Perturbation Rationale SIS:  0.011340096592903137\n",
      "Median of medians, Perturbation Non-rationale SIS:  -0.00015360116958618164\n",
      "RanksumsResult(statistic=25.130197664042598, pvalue=2.326748490685016e-139)\n",
      "\n",
      "Median of medians, Perturbation Rationale IG:  0.0027473419904708862\n",
      "Median of medians, Perturbation Non-rationale IG:  -0.00021438300609588623\n",
      "RanksumsResult(statistic=22.292739649992864, pvalue=4.345692352107898e-110)\n",
      "\n",
      "Median of medians, Perturbation Rationale Top IG:  0.0123748779296875\n",
      "Median of medians, Perturbation Non-rationale Top IG:  -1.2129545211791992e-05\n",
      "RanksumsResult(statistic=24.71423671114697, pvalue=7.51903695090451e-135)\n",
      "\n",
      "Median of medians, Perturbation Rationale Fixed Length IG:  0.015834659337997437\n",
      "Median of medians, Perturbation Non-rationale Fixed Length IG:  -1.1146068572998047e-05\n",
      "RanksumsResult(statistic=24.99606225832269, pvalue=6.746843842562703e-138)\n",
      "\n",
      "Median of medians, Perturbation Rationale Fixed Length LIME:  0.016924619674682617\n",
      "Median of medians, Perturbation Non-rationale Fixed Length LIME:  -0.00021412968635559082\n",
      "RanksumsResult(statistic=25.13725742223838, pvalue=1.9479036653712312e-139)\n",
      "\n",
      "Median of medians, Perturbation Rationale Fixed Length Perturb.:  0.020641803741455078\n",
      "Median of medians, Perturbation Non-rationale Fixed Length Perturb.:  -0.0003641098737716675\n",
      "RanksumsResult(statistic=25.14318761912284, pvalue=1.6777139746573733e-139)\n",
      "\n",
      "Rationales only:\n",
      "SIS vs. IG:  RanksumsResult(statistic=15.942910738376385, pvalue=3.1913593980679093e-57)\n",
      "SIS vs. Top IG:  RanksumsResult(statistic=0.2931211602889755, pvalue=0.7694295432073932)\n",
      "SIS vs. Fixed Length IG:  RanksumsResult(statistic=-4.5871484852929845, pvalue=4.493411052125628e-06)\n",
      "SIS vs. Fixed Length LIME:  RanksumsResult(statistic=-6.038917160674123, pvalue=1.5515186647307852e-09)\n",
      "SIS vs. Fixed Length Perturb.:  RanksumsResult(statistic=-9.025477267818829, pvalue=1.7891376364958224e-19)\n"
     ]
    }
   ],
   "source": [
    "median_rationale_perturb_sis = []\n",
    "median_nonrationale_perturb_sis = []\n",
    "\n",
    "median_rationale_perturb_ig = []\n",
    "median_nonrationale_perturb_ig = []\n",
    "\n",
    "median_rationale_perturb_top_ig = []\n",
    "median_nonrationale_perturb_top_ig = []\n",
    "\n",
    "median_rationale_perturb_ig_fixed_length = []\n",
    "median_nonrationale_perturb_ig_fixed_length = []\n",
    "\n",
    "median_rationale_perturb_lime_fixed_length = []\n",
    "median_nonrationale_perturb_lime_fixed_length = []\n",
    "\n",
    "median_rationale_perturb_pert_fixed_length = []\n",
    "median_nonrationale_perturb_pert_fixed_length = []\n",
    "\n",
    "for dataset in occupancy_datasets:\n",
    "    stats_path = os.path.join(occupancy_results_basepath, dataset, 'stats.json')\n",
    "    stats = tf_binding.load_stats(stats_path)\n",
    "\n",
    "    median_rationale_perturb_sis.append(stats['perturbation']['sis']['rationale']['median'])\n",
    "    median_nonrationale_perturb_sis.append(stats['perturbation']['sis']['nonrationale']['median'])\n",
    "\n",
    "    median_rationale_perturb_ig.append(stats['perturbation']['ig']['rationale']['median'])\n",
    "    median_nonrationale_perturb_ig.append(stats['perturbation']['ig']['nonrationale']['median'])\n",
    "\n",
    "    median_rationale_perturb_top_ig.append(stats['perturbation']['top_ig']['rationale']['median'])\n",
    "    median_nonrationale_perturb_top_ig.append(stats['perturbation']['top_ig']['nonrationale']['median'])\n",
    "\n",
    "    median_rationale_perturb_ig_fixed_length.append(stats['perturbation']['ig_fixed_length']['rationale']['median'])\n",
    "    median_nonrationale_perturb_ig_fixed_length.append(stats['perturbation']['ig_fixed_length']['nonrationale']['median'])\n",
    "\n",
    "    median_rationale_perturb_lime_fixed_length.append(stats['perturbation']['lime_fixed_length']['rationale']['median'])\n",
    "    median_nonrationale_perturb_lime_fixed_length.append(stats['perturbation']['lime_fixed_length']['nonrationale']['median'])\n",
    "\n",
    "    median_rationale_perturb_pert_fixed_length.append(stats['perturbation']['pert_fixed_length']['rationale']['median'])\n",
    "    median_nonrationale_perturb_pert_fixed_length.append(stats['perturbation']['pert_fixed_length']['nonrationale']['median'])\n",
    "\n",
    "\n",
    "print('# Datasets aggregated =', len(median_rationale_perturb_sis))\n",
    "print('')\n",
    "print('Median of medians, Perturbation Rationale SIS: ', np.median(median_rationale_perturb_sis))\n",
    "print('Median of medians, Perturbation Non-rationale SIS: ', np.median(median_nonrationale_perturb_sis))\n",
    "print(ranksums(median_rationale_perturb_sis, median_nonrationale_perturb_sis))\n",
    "print('')\n",
    "print('Median of medians, Perturbation Rationale IG: ', np.median(median_rationale_perturb_ig))\n",
    "print('Median of medians, Perturbation Non-rationale IG: ', np.median(median_nonrationale_perturb_ig))\n",
    "print(ranksums(median_rationale_perturb_ig, median_nonrationale_perturb_ig))\n",
    "print('')\n",
    "print('Median of medians, Perturbation Rationale Top IG: ', np.median(median_rationale_perturb_top_ig))\n",
    "print('Median of medians, Perturbation Non-rationale Top IG: ', np.median(median_nonrationale_perturb_top_ig))\n",
    "print(ranksums(median_rationale_perturb_top_ig, median_nonrationale_perturb_top_ig))\n",
    "print('')\n",
    "print('Median of medians, Perturbation Rationale Fixed Length IG: ', np.median(median_rationale_perturb_ig_fixed_length))\n",
    "print('Median of medians, Perturbation Non-rationale Fixed Length IG: ', np.median(median_nonrationale_perturb_ig_fixed_length))\n",
    "print(ranksums(median_rationale_perturb_ig_fixed_length, median_nonrationale_perturb_ig_fixed_length))\n",
    "print('')\n",
    "print('Median of medians, Perturbation Rationale Fixed Length LIME: ', np.median(median_rationale_perturb_lime_fixed_length))\n",
    "print('Median of medians, Perturbation Non-rationale Fixed Length LIME: ', np.median(median_nonrationale_perturb_lime_fixed_length))\n",
    "print(ranksums(median_rationale_perturb_lime_fixed_length, median_nonrationale_perturb_lime_fixed_length))\n",
    "print('')\n",
    "print('Median of medians, Perturbation Rationale Fixed Length Perturb.: ', np.median(median_rationale_perturb_pert_fixed_length))\n",
    "print('Median of medians, Perturbation Non-rationale Fixed Length Perturb.: ', np.median(median_nonrationale_perturb_pert_fixed_length))\n",
    "print(ranksums(median_rationale_perturb_pert_fixed_length, median_nonrationale_perturb_pert_fixed_length))\n",
    "print('')\n",
    "\n",
    "print('Rationales only:')\n",
    "print('SIS vs. IG: ', ranksums(median_rationale_perturb_sis, median_rationale_perturb_ig))\n",
    "print('SIS vs. Top IG: ', ranksums(median_rationale_perturb_sis, median_rationale_perturb_top_ig))\n",
    "print('SIS vs. Fixed Length IG: ', ranksums(median_rationale_perturb_sis, median_rationale_perturb_ig_fixed_length))\n",
    "print('SIS vs. Fixed Length LIME: ', ranksums(median_rationale_perturb_sis, median_rationale_perturb_lime_fixed_length))\n",
    "print('SIS vs. Fixed Length Perturb.: ', ranksums(median_rationale_perturb_sis, median_rationale_perturb_pert_fixed_length))"
   ]
  },
  {
   "cell_type": "code",
   "execution_count": 18,
   "metadata": {},
   "outputs": [],
   "source": [
    "columns = ['method', 'rationale_nonrationale', 'perturbation_delta']\n",
    "\n",
    "sis_rationale_df = pd.DataFrame([('SIS', 'Rationale', p) for p in median_rationale_perturb_sis],\n",
    "                                   columns=columns)\n",
    "sis_nonrationale_df = pd.DataFrame([('SIS', 'Non-rationale', p) for p in median_nonrationale_perturb_sis],\n",
    "                                   columns=columns)\n",
    "\n",
    "ig_rationale_df = pd.DataFrame([('Suff. IG', 'Rationale', p) for p in median_rationale_perturb_ig],\n",
    "                                   columns=columns)\n",
    "ig_nonrationale_df = pd.DataFrame([('Suff. IG', 'Non-rationale', p) for p in median_nonrationale_perturb_ig],\n",
    "                                   columns=columns)\n",
    "\n",
    "top_ig_rationale_df = pd.DataFrame([('Top IG', 'Rationale', p) for p in median_rationale_perturb_top_ig],\n",
    "                                   columns=columns)\n",
    "top_ig_nonrationale_df = pd.DataFrame([('Top IG', 'Non-rationale', p) for p in median_nonrationale_perturb_top_ig],\n",
    "                                   columns=columns)\n",
    "\n",
    "fixed_length_ig_rationale_df = pd.DataFrame([('IG', 'Rationale', p) for p in median_rationale_perturb_ig_fixed_length],\n",
    "                                   columns=columns)\n",
    "fixed_length_ig_nonrationale_df = pd.DataFrame([('IG', 'Non-rationale', p) for p in median_nonrationale_perturb_ig_fixed_length],\n",
    "                                   columns=columns)\n",
    "\n",
    "fixed_length_lime_rationale_df = pd.DataFrame([('LIME', 'Rationale', p) for p in median_rationale_perturb_lime_fixed_length],\n",
    "                                   columns=columns)\n",
    "fixed_length_lime_nonrationale_df = pd.DataFrame([('LIME', 'Non-rationale', p) for p in median_nonrationale_perturb_lime_fixed_length],\n",
    "                                   columns=columns)\n",
    "\n",
    "fixed_length_pert_rationale_df = pd.DataFrame([('Perturb.', 'Rationale', p) for p in median_rationale_perturb_pert_fixed_length],\n",
    "                                   columns=columns)\n",
    "fixed_length_pert_nonrationale_df = pd.DataFrame([('Perturb.', 'Non-rationale', p) for p in median_nonrationale_perturb_pert_fixed_length],\n",
    "                                   columns=columns)\n",
    "\n",
    "perturbation_df = pd.concat([sis_rationale_df, sis_nonrationale_df,\n",
    "                             ig_rationale_df, ig_nonrationale_df,\n",
    "                             top_ig_rationale_df, top_ig_nonrationale_df,\n",
    "                             fixed_length_ig_rationale_df, fixed_length_ig_nonrationale_df,\n",
    "                             fixed_length_lime_rationale_df, fixed_length_lime_nonrationale_df,\n",
    "                             fixed_length_pert_rationale_df, fixed_length_pert_nonrationale_df],\n",
    "                            ignore_index=True)"
   ]
  },
  {
   "cell_type": "code",
   "execution_count": 19,
   "metadata": {},
   "outputs": [
    {
     "data": {
      "image/png": "[encoded data removed]",
      "text/plain": [
       "<Figure size 324x198 with 1 Axes>"
      ]
     },
     "metadata": {},
     "output_type": "display_data"
    }
   ],
   "source": [
    "# https://stackoverflow.com/questions/36874697/how-to-edit-properties-of-whiskers-fliers-caps-etc-in-seaborn-boxplot\n",
    "#   for boxplot drawing\n",
    "\n",
    "plt.figure(figsize=(4.5, 2.75))\n",
    "ax = sns.boxplot(x='method', y='perturbation_delta', hue='rationale_nonrationale',\n",
    "            data=perturbation_df, orient='v',\n",
    "            palette=sns.color_palette([sns.color_palette('hls', 8)[0], sns.light_palette('black', reverse=True)[1]]),\n",
    "            flierprops={'markersize': 3, 'marker': 'o', 'alpha': 0.75})\n",
    "for i, artist in enumerate(ax.artists):\n",
    "    col = artist.get_facecolor()\n",
    "    for j in range(i*6, i*6+6):\n",
    "        line = ax.lines[j]\n",
    "        line.set_mfc(col)\n",
    "        line.set_mec(col)\n",
    "plt.xlabel('')\n",
    "plt.ylabel('Feature Importance')\n",
    "plt.legend(loc='center', title=None, frameon=False, ncol=2, bbox_to_anchor=(0.5, -0.2))\n",
    "plt.tight_layout()\n",
    "plt.savefig(os.path.join(figures_dir, 'perturbation_boxplot.png'), dpi=1200, bbox_inches='tight')\n",
    "plt.show()"
   ]
  },
  {
   "cell_type": "markdown",
   "metadata": {},
   "source": [
    "## Aligning Known Motifs to Rationales"
   ]
  },
  {
   "cell_type": "code",
   "execution_count": 20,
   "metadata": {},
   "outputs": [
    {
     "data": {
      "image/png": "[encoded data removed]",
      "text/plain": [
       "<Figure size 288x180 with 1 Axes>"
      ]
     },
     "metadata": {},
     "output_type": "display_data"
    },
    {
     "name": "stdout",
     "output_type": "stream",
     "text": [
      "# Datasets aggregated = 422\n",
      "\n",
      "Median of medians, SIS:  23.839859678634248\n",
      "Median of medians, IG:  58.112941696918256\n",
      "Median of medians, Top IG:  35.96351818442918\n",
      "Median of medians, IG Fixed Length:  32.078982741422884\n",
      "Median of medians, LIME Fixed Length:  29.328384375127147\n",
      "Median of medians, Perturb. Fixed Length:  30.378907714129703\n",
      "\n",
      "SIS vs. IG:  RanksumsResult(statistic=-16.325408437423995, pvalue=6.510353078315638e-60)\n",
      "SIS vs. Top IG:  RanksumsResult(statistic=-9.5462050323399, pvalue=1.3453432902513507e-21)\n",
      "SIS vs. IG Fixed Length:  RanksumsResult(statistic=-7.166642934868752, pvalue=7.685914843043185e-13)\n",
      "SIS vs. LIME Fixed Length:  RanksumsResult(statistic=-4.404159552858248, pvalue=1.0619476646027827e-05)\n",
      "SIS vs. Perturb. Fixed Length:  RanksumsResult(statistic=-5.605024421961204, pvalue=2.0822560219872534e-08)\n"
     ]
    }
   ],
   "source": [
    "median_align_scores_sis = []\n",
    "median_align_scores_ig = []\n",
    "median_align_scores_top_ig = []\n",
    "median_align_scores_ig_fixed_length = []\n",
    "median_align_scores_lime_fixed_length = []\n",
    "median_align_scores_pert_fixed_length = []\n",
    "\n",
    "for dataset in occupancy_datasets:\n",
    "    stats_path = os.path.join(occupancy_results_basepath, dataset, 'stats.json')\n",
    "    stats = tf_binding.load_stats(stats_path)\n",
    "    median_align_scores_sis.append(stats['alignment']['sis']['median'])\n",
    "    median_align_scores_ig.append(stats['alignment']['ig']['median'])\n",
    "    median_align_scores_top_ig.append(stats['alignment']['top_ig']['median'])\n",
    "    median_align_scores_ig_fixed_length.append(stats['alignment']['fixed_length_ig']['median'])\n",
    "    median_align_scores_lime_fixed_length.append(stats['alignment']['fixed_length_lime']['median'])\n",
    "    median_align_scores_pert_fixed_length.append(stats['alignment']['fixed_length_pert']['median'])\n",
    "\n",
    "median_align_scores_sis = np.array(median_align_scores_sis)\n",
    "median_align_scores_ig = np.array(median_align_scores_ig)\n",
    "median_align_scores_top_ig = np.array(median_align_scores_top_ig)\n",
    "median_align_scores_ig_fixed_length = np.array(median_align_scores_ig_fixed_length)\n",
    "median_align_scores_lime_fixed_length = np.array(median_align_scores_lime_fixed_length)\n",
    "median_align_scores_pert_fixed_length = np.array(median_align_scores_pert_fixed_length)\n",
    "\n",
    "\n",
    "median_align_scores_df = pd.DataFrame({'SIS': median_align_scores_sis,\n",
    "                                       'Suff. IG': median_align_scores_ig,\n",
    "                                       'Top IG': median_align_scores_top_ig,\n",
    "                                       'IG': median_align_scores_ig_fixed_length,\n",
    "                                       'LIME': median_align_scores_lime_fixed_length,\n",
    "                                       'Perturb.': median_align_scores_pert_fixed_length})\n",
    "\n",
    "plt.figure(figsize=(4, 2.5))\n",
    "sns.boxplot(data=median_align_scores_df, orient='h', order=['SIS', 'Suff. IG', 'Top IG', 'IG', 'LIME', 'Perturb.'])\n",
    "plt.xlabel('Divergence from Known Motif')\n",
    "plt.tight_layout()\n",
    "plt.savefig(os.path.join(figures_dir, 'motif_alignment_boxplot.png'), dpi=1200, bbox_inches='tight')\n",
    "plt.show()\n",
    "\n",
    "print('# Datasets aggregated =', len(median_align_scores_sis))\n",
    "print()\n",
    "print('Median of medians, SIS: ', np.median(median_align_scores_sis))\n",
    "print('Median of medians, IG: ', np.median(median_align_scores_ig))\n",
    "print('Median of medians, Top IG: ', np.median(median_align_scores_top_ig))\n",
    "print('Median of medians, IG Fixed Length: ', np.median(median_align_scores_ig_fixed_length))\n",
    "print('Median of medians, LIME Fixed Length: ', np.median(median_align_scores_lime_fixed_length))\n",
    "print('Median of medians, Perturb. Fixed Length: ', np.median(median_align_scores_pert_fixed_length))\n",
    "print()\n",
    "print('SIS vs. IG: ', ranksums(median_align_scores_sis, median_align_scores_ig))\n",
    "print('SIS vs. Top IG: ', ranksums(median_align_scores_sis, median_align_scores_top_ig))\n",
    "print('SIS vs. IG Fixed Length: ', ranksums(median_align_scores_sis, median_align_scores_ig_fixed_length))\n",
    "print('SIS vs. LIME Fixed Length: ', ranksums(median_align_scores_sis, median_align_scores_lime_fixed_length))\n",
    "print('SIS vs. Perturb. Fixed Length: ', ranksums(median_align_scores_sis, median_align_scores_pert_fixed_length))"
   ]
  },
  {
   "cell_type": "markdown",
   "metadata": {},
   "source": [
    "## Number of Sufficient Rationales"
   ]
  },
  {
   "cell_type": "code",
   "execution_count": 21,
   "metadata": {},
   "outputs": [
    {
     "data": {
      "image/png": "[encoded data removed]",
      "text/plain": [
       "<Figure size 288x180 with 1 Axes>"
      ]
     },
     "metadata": {},
     "output_type": "display_data"
    }
   ],
   "source": [
    "median_num_suffic_rationales = []\n",
    "\n",
    "for dataset in occupancy_datasets:\n",
    "    stats_path = os.path.join(occupancy_results_basepath, dataset, 'stats.json')\n",
    "    stats = tf_binding.load_stats(stats_path)\n",
    "    median_num_suffic_rationales.append(stats['num_suffic_rationales']['median'])\n",
    "\n",
    "median_num_suffic_rationales = np.array(median_num_suffic_rationales)\n",
    "\n",
    "# Bar plot\n",
    "bins, counts = np.unique(median_num_suffic_rationales, return_counts=True)\n",
    "num_bins = len(bins)\n",
    "width = 0.35\n",
    "\n",
    "plt.figure(figsize=(4, 2.5))\n",
    "rects = plt.bar(bins, counts, width)\n",
    "# Display count above each bar\n",
    "for i, rect in enumerate(rects):\n",
    "    height = rect.get_height()\n",
    "    plt.text(rect.get_x() + rect.get_width()/2., 1.025*height,\n",
    "            '%d' % counts[i],\n",
    "            ha='center', va='bottom', fontsize=10)\n",
    "plt.xlabel('Median # of SISes per Example')\n",
    "plt.ylabel('Frequency')\n",
    "plt.ylim([0, max(counts)+60])  # leave room for text label\n",
    "plt.xticks(bins)\n",
    "plt.grid(False)\n",
    "plt.tight_layout()\n",
    "plt.savefig(os.path.join(figures_dir, 'num_suffic_rationales.png'), dpi=1200, bbox_inches='tight')\n",
    "plt.show()"
   ]
  }
 ],
 "metadata": {
  "kernelspec": {
   "display_name": "Python 3",
   "language": "python",
   "name": "python3"
  },
  "language_info": {
   "codemirror_mode": {
    "name": "ipython",
    "version": 3
   },
   "file_extension": ".py",
   "mimetype": "text/x-python",
   "name": "python",
   "nbconvert_exporter": "python",
   "pygments_lexer": "ipython3",
   "version": "3.6.5"
  }
 },
 "nbformat": 4,
 "nbformat_minor": 2
}
