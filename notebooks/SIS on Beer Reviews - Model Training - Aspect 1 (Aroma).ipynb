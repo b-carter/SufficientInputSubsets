{
 "cells": [
  {
   "cell_type": "markdown",
   "metadata": {},
   "source": [
    "## SIS on Beer Reviews - Model Training Aspect 1 (Aroma)"
   ]
  },
  {
   "cell_type": "code",
   "execution_count": 3,
   "metadata": {},
   "outputs": [],
   "source": [
    "import numpy as np\n",
    "from matplotlib import pyplot as plt\n",
    "import seaborn as sns\n",
    "import os\n",
    "import sys\n",
    "import gzip\n",
    "sys.path.insert(0, os.path.abspath('..'))\n",
    "\n",
    "from keras.callbacks import ModelCheckpoint\n",
    "from keras.models import load_model, Model, Sequential\n",
    "from keras.layers import Input, Dense, Flatten, LSTM\n",
    "from keras.layers.embeddings import Embedding\n",
    "from keras.optimizers import Adam\n",
    "from keras.preprocessing import sequence, text\n",
    "from keras import backend as K\n",
    "from sklearn.model_selection import train_test_split"
   ]
  },
  {
   "cell_type": "code",
   "execution_count": 4,
   "metadata": {},
   "outputs": [],
   "source": [
    "import os\n",
    "import tensorflow as tf\n",
    "\n",
    "os.environ['CUDA_DEVICE_ORDER'] = 'PCI_BUS_ID'\n",
    "os.environ['CUDA_VISIBLE_DEVICES'] = '1'\n",
    "\n",
    "config = tf.ConfigProto()\n",
    "config.gpu_options.allow_growth = True\n",
    "config.allow_soft_placement = True\n",
    "\n",
    "sess = tf.Session(config=config)\n",
    "\n",
    "K.set_session(sess)"
   ]
  },
  {
   "cell_type": "code",
   "execution_count": 5,
   "metadata": {},
   "outputs": [],
   "source": [
    "def load_reviews(path, verbose=True):\n",
    "    data_x, data_y = [ ], [ ]\n",
    "    fopen = gzip.open if path.endswith(\".gz\") else open\n",
    "    with fopen(path) as fin:\n",
    "        for line in fin:\n",
    "            line = line.decode('ascii')\n",
    "            y, sep, x = line.partition(\"\\t\")\n",
    "            # x = x.split()\n",
    "            y = y.split()\n",
    "            if len(x) == 0: continue\n",
    "            y = np.asarray([ float(v) for v in y ])\n",
    "            data_x.append(x)\n",
    "            data_y.append(y)\n",
    "\n",
    "    if verbose:\n",
    "        print(\"{} examples loaded from {}\".format(len(data_x), path))\n",
    "        print(\"max text length: {}\".format(max(len(x) for x in data_x)))\n",
    "\n",
    "    return data_x, data_y"
   ]
  },
  {
   "cell_type": "code",
   "execution_count": 11,
   "metadata": {},
   "outputs": [
    {
     "name": "stdout",
     "output_type": "stream",
     "text": [
      "70000 examples loaded from ../data/beer_reviews/reviews.aspect1.train.txt.gz\n",
      "max text length: 5085\n",
      "10000 examples loaded from ../data/beer_reviews/reviews.aspect1.heldout.txt.gz\n",
      "max text length: 4619\n"
     ]
    }
   ],
   "source": [
    "# Load beer review data for a particular aspect\n",
    "\n",
    "ASPECT = 1  # 1, 2, or 3\n",
    "\n",
    "BASE_PATH = '../data/beer_reviews'\n",
    "\n",
    "path = os.path.join(BASE_PATH, 'reviews.aspect' + str(ASPECT))\n",
    "train_path = path + '.train.txt.gz'\n",
    "heldout_path = path + '.heldout.txt.gz'\n",
    "\n",
    "X_train_texts, y_train = load_reviews(train_path)\n",
    "X_test_texts, y_test = load_reviews(heldout_path)\n",
    "\n",
    "# y value is just the sentiment for this aspect, throw away the other scores\n",
    "y_train = np.array([y[ASPECT] for y in y_train])\n",
    "y_test = np.array([y[ASPECT] for y in y_test])\n",
    "\n",
    "# Create a 3k validation set held-out from the test set\n",
    "X_test_texts, X_val_texts, y_test, y_val = train_test_split(\n",
    "                                                X_test_texts,\n",
    "                                                y_test,\n",
    "                                                test_size=3000,\n",
    "                                                random_state=42)"
   ]
  },
  {
   "cell_type": "code",
   "execution_count": 7,
   "metadata": {},
   "outputs": [
    {
     "data": {
      "image/png": "[encoded data removed]",
      "text/plain": [
       "<Figure size 432x288 with 1 Axes>"
      ]
     },
     "metadata": {},
     "output_type": "display_data"
    },
    {
     "name": "stdout",
     "output_type": "stream",
     "text": [
      "Mean: 0.680\n",
      "Median: 0.700\n",
      "Stdev: 0.238\n",
      "Review length:\n",
      "Mean 154.47 words (stddev: 81.134751)\n"
     ]
    },
    {
     "data": {
      "image/png": "[encoded data removed]",
      "text/plain": [
       "<Figure size 432x288 with 1 Axes>"
      ]
     },
     "metadata": {},
     "output_type": "display_data"
    }
   ],
   "source": [
    "plt.hist(y_train)\n",
    "plt.show()\n",
    "\n",
    "print('Mean: %.3f' % np.mean(y_train))\n",
    "print('Median: %.3f' % np.median(y_train))\n",
    "print('Stdev: %.3f' % np.std(y_train))\n",
    "\n",
    "print('Review length:')\n",
    "train_texts_lengths = [len(x.split(' ')) for x in X_train_texts]\n",
    "print(\"Mean %.2f words (stddev: %f)\" % \\\n",
    "      (np.mean(train_texts_lengths),\n",
    "       np.std(train_texts_lengths)))\n",
    "\n",
    "# plot review lengths\n",
    "plt.boxplot(train_texts_lengths)\n",
    "plt.show()"
   ]
  },
  {
   "cell_type": "code",
   "execution_count": 8,
   "metadata": {},
   "outputs": [
    {
     "name": "stdout",
     "output_type": "stream",
     "text": [
      "70000\n",
      "3000\n",
      "7000\n"
     ]
    }
   ],
   "source": [
    "# Tokenize the texts and keep only the top n words\n",
    "\n",
    "TOP_WORDS = 10000\n",
    "\n",
    "tokenizer = text.Tokenizer(num_words=TOP_WORDS)\n",
    "\n",
    "tokenizer.fit_on_texts(X_train_texts)\n",
    "\n",
    "X_train = tokenizer.texts_to_sequences(X_train_texts)\n",
    "X_val = tokenizer.texts_to_sequences(X_val_texts)\n",
    "X_test = tokenizer.texts_to_sequences(X_test_texts)\n",
    "\n",
    "print(len(X_train))\n",
    "print(len(X_val))\n",
    "print(len(X_test))"
   ]
  },
  {
   "cell_type": "code",
   "execution_count": 9,
   "metadata": {},
   "outputs": [],
   "source": [
    "# Bound reviews at 500 words, truncating longer reviews and zero-padding shorter reviews\n",
    "\n",
    "MAX_WORDS = 500\n",
    "\n",
    "X_train = sequence.pad_sequences(X_train, maxlen=MAX_WORDS)\n",
    "X_val = sequence.pad_sequences(X_val, maxlen=MAX_WORDS)\n",
    "X_test = sequence.pad_sequences(X_test, maxlen=MAX_WORDS)"
   ]
  },
  {
   "cell_type": "code",
   "execution_count": 10,
   "metadata": {},
   "outputs": [],
   "source": [
    "index_to_token = {tokenizer.word_index[k]: k for k in tokenizer.word_index.keys()}"
   ]
  },
  {
   "cell_type": "markdown",
   "metadata": {},
   "source": [
    "## LSTM Model"
   ]
  },
  {
   "cell_type": "code",
   "execution_count": 9,
   "metadata": {},
   "outputs": [],
   "source": [
    "def coeff_determination_metric(y_true, y_pred):\n",
    "    SS_res =  K.sum(K.square( y_true-y_pred ))\n",
    "    SS_tot = K.sum(K.square( y_true - K.mean(y_true) ) )\n",
    "    return ( 1 - SS_res/(SS_tot + K.epsilon()) )"
   ]
  },
  {
   "cell_type": "code",
   "execution_count": 12,
   "metadata": {
    "scrolled": false
   },
   "outputs": [
    {
     "name": "stdout",
     "output_type": "stream",
     "text": [
      "_________________________________________________________________\n",
      "Layer (type)                 Output Shape              Param #   \n",
      "=================================================================\n",
      "embedding_3 (Embedding)      (None, 500, 100)          1000000   \n",
      "_________________________________________________________________\n",
      "lstm_5 (LSTM)                (None, 500, 200)          240800    \n",
      "_________________________________________________________________\n",
      "lstm_6 (LSTM)                (None, 200)               320800    \n",
      "_________________________________________________________________\n",
      "dense_3 (Dense)              (None, 1)                 201       \n",
      "=================================================================\n",
      "Total params: 1,561,801\n",
      "Trainable params: 1,561,801\n",
      "Non-trainable params: 0\n",
      "_________________________________________________________________\n",
      "None\n",
      "Train on 70000 samples, validate on 3000 samples\n",
      "Epoch 1/15\n",
      "69888/70000 [============================>.] - ETA: 1s - loss: 0.0472 - mean_squared_error: 0.0472 - mean_absolute_error: 0.1838 - coeff_determination_metric: 0.1582\n",
      "Epoch 00001: val_loss improved from inf to 0.04676, saving model to ../trained_models/asp1.regress.bs128.nodrop.lstm200.100dimembed.weights.01-0.0468.hdf5\n",
      "70000/70000 [==============================] - 914s 13ms/step - loss: 0.0472 - mean_squared_error: 0.0472 - mean_absolute_error: 0.1838 - coeff_determination_metric: 0.1582 - val_loss: 0.0468 - val_mean_squared_error: 0.0468 - val_mean_absolute_error: 0.1789 - val_coeff_determination_metric: 0.1707\n",
      "Epoch 2/15\n",
      "69888/70000 [============================>.] - ETA: 1s - loss: 0.0476 - mean_squared_error: 0.0476 - mean_absolute_error: 0.1873 - coeff_determination_metric: 0.1515\n",
      "Epoch 00002: val_loss improved from 0.04676 to 0.03574, saving model to ../trained_models/asp1.regress.bs128.nodrop.lstm200.100dimembed.weights.02-0.0357.hdf5\n",
      "70000/70000 [==============================] - 941s 13ms/step - loss: 0.0476 - mean_squared_error: 0.0476 - mean_absolute_error: 0.1873 - coeff_determination_metric: 0.1520 - val_loss: 0.0357 - val_mean_squared_error: 0.0357 - val_mean_absolute_error: 0.1528 - val_coeff_determination_metric: 0.3671\n",
      "Epoch 3/15\n",
      "69888/70000 [============================>.] - ETA: 1s - loss: 0.0341 - mean_squared_error: 0.0341 - mean_absolute_error: 0.1496 - coeff_determination_metric: 0.3920\n",
      "Epoch 00003: val_loss improved from 0.03574 to 0.02953, saving model to ../trained_models/asp1.regress.bs128.nodrop.lstm200.100dimembed.weights.03-0.0295.hdf5\n",
      "70000/70000 [==============================] - 932s 13ms/step - loss: 0.0340 - mean_squared_error: 0.0340 - mean_absolute_error: 0.1496 - coeff_determination_metric: 0.3922 - val_loss: 0.0295 - val_mean_squared_error: 0.0295 - val_mean_absolute_error: 0.1352 - val_coeff_determination_metric: 0.4773\n",
      "Epoch 4/15\n",
      "69888/70000 [============================>.] - ETA: 1s - loss: 0.0283 - mean_squared_error: 0.0283 - mean_absolute_error: 0.1336 - coeff_determination_metric: 0.4944\n",
      "Epoch 00004: val_loss improved from 0.02953 to 0.02749, saving model to ../trained_models/asp1.regress.bs128.nodrop.lstm200.100dimembed.weights.04-0.0275.hdf5\n",
      "70000/70000 [==============================] - 905s 13ms/step - loss: 0.0283 - mean_squared_error: 0.0283 - mean_absolute_error: 0.1336 - coeff_determination_metric: 0.4944 - val_loss: 0.0275 - val_mean_squared_error: 0.0275 - val_mean_absolute_error: 0.1316 - val_coeff_determination_metric: 0.5129\n",
      "Epoch 5/15\n",
      "69888/70000 [============================>.] - ETA: 1s - loss: 0.0235 - mean_squared_error: 0.0235 - mean_absolute_error: 0.1190 - coeff_determination_metric: 0.5792\n",
      "Epoch 00005: val_loss improved from 0.02749 to 0.02519, saving model to ../trained_models/asp1.regress.bs128.nodrop.lstm200.100dimembed.weights.05-0.0252.hdf5\n",
      "70000/70000 [==============================] - 916s 13ms/step - loss: 0.0235 - mean_squared_error: 0.0235 - mean_absolute_error: 0.1190 - coeff_determination_metric: 0.5791 - val_loss: 0.0252 - val_mean_squared_error: 0.0252 - val_mean_absolute_error: 0.1246 - val_coeff_determination_metric: 0.5536\n",
      "Epoch 6/15\n",
      "69888/70000 [============================>.] - ETA: 1s - loss: 0.0203 - mean_squared_error: 0.0203 - mean_absolute_error: 0.1093 - coeff_determination_metric: 0.6369\n",
      "Epoch 00006: val_loss improved from 0.02519 to 0.02454, saving model to ../trained_models/asp1.regress.bs128.nodrop.lstm200.100dimembed.weights.06-0.0245.hdf5\n",
      "70000/70000 [==============================] - 899s 13ms/step - loss: 0.0203 - mean_squared_error: 0.0203 - mean_absolute_error: 0.1093 - coeff_determination_metric: 0.6368 - val_loss: 0.0245 - val_mean_squared_error: 0.0245 - val_mean_absolute_error: 0.1194 - val_coeff_determination_metric: 0.5648\n",
      "Epoch 7/15\n",
      "69888/70000 [============================>.] - ETA: 1s - loss: 0.0181 - mean_squared_error: 0.0181 - mean_absolute_error: 0.1023 - coeff_determination_metric: 0.6764\n",
      "Epoch 00007: val_loss improved from 0.02454 to 0.02454, saving model to ../trained_models/asp1.regress.bs128.nodrop.lstm200.100dimembed.weights.07-0.0245.hdf5\n",
      "70000/70000 [==============================] - 901s 13ms/step - loss: 0.0181 - mean_squared_error: 0.0181 - mean_absolute_error: 0.1023 - coeff_determination_metric: 0.6764 - val_loss: 0.0245 - val_mean_squared_error: 0.0245 - val_mean_absolute_error: 0.1188 - val_coeff_determination_metric: 0.5651\n",
      "Epoch 8/15\n",
      "69888/70000 [============================>.] - ETA: 1s - loss: 0.0164 - mean_squared_error: 0.0164 - mean_absolute_error: 0.0967 - coeff_determination_metric: 0.7070\n",
      "Epoch 00008: val_loss did not improve\n",
      "70000/70000 [==============================] - 943s 13ms/step - loss: 0.0164 - mean_squared_error: 0.0164 - mean_absolute_error: 0.0967 - coeff_determination_metric: 0.7070 - val_loss: 0.0247 - val_mean_squared_error: 0.0247 - val_mean_absolute_error: 0.1188 - val_coeff_determination_metric: 0.5615\n",
      "Epoch 9/15\n",
      "69888/70000 [============================>.] - ETA: 1s - loss: 0.0150 - mean_squared_error: 0.0150 - mean_absolute_error: 0.0918 - coeff_determination_metric: 0.7324\n",
      "Epoch 00009: val_loss did not improve\n",
      "70000/70000 [==============================] - 913s 13ms/step - loss: 0.0150 - mean_squared_error: 0.0150 - mean_absolute_error: 0.0918 - coeff_determination_metric: 0.7323 - val_loss: 0.0252 - val_mean_squared_error: 0.0252 - val_mean_absolute_error: 0.1180 - val_coeff_determination_metric: 0.5536\n",
      "Epoch 10/15\n",
      "69888/70000 [============================>.] - ETA: 1s - loss: 0.0135 - mean_squared_error: 0.0135 - mean_absolute_error: 0.0867 - coeff_determination_metric: 0.7583\n",
      "Epoch 00010: val_loss did not improve\n",
      "70000/70000 [==============================] - 880s 13ms/step - loss: 0.0135 - mean_squared_error: 0.0135 - mean_absolute_error: 0.0867 - coeff_determination_metric: 0.7583 - val_loss: 0.0247 - val_mean_squared_error: 0.0247 - val_mean_absolute_error: 0.1158 - val_coeff_determination_metric: 0.5615\n",
      "Epoch 11/15\n",
      "69888/70000 [============================>.] - ETA: 1s - loss: 0.0123 - mean_squared_error: 0.0123 - mean_absolute_error: 0.0822 - coeff_determination_metric: 0.7805\n",
      "Epoch 00011: val_loss did not improve\n",
      "70000/70000 [==============================] - 835s 12ms/step - loss: 0.0123 - mean_squared_error: 0.0123 - mean_absolute_error: 0.0822 - coeff_determination_metric: 0.7806 - val_loss: 0.0264 - val_mean_squared_error: 0.0264 - val_mean_absolute_error: 0.1178 - val_coeff_determination_metric: 0.5307\n",
      "Epoch 12/15\n",
      "69888/70000 [============================>.] - ETA: 1s - loss: 0.0110 - mean_squared_error: 0.0110 - mean_absolute_error: 0.0776 - coeff_determination_metric: 0.8027\n",
      "Epoch 00012: val_loss did not improve\n",
      "70000/70000 [==============================] - 836s 12ms/step - loss: 0.0110 - mean_squared_error: 0.0110 - mean_absolute_error: 0.0776 - coeff_determination_metric: 0.8027 - val_loss: 0.0261 - val_mean_squared_error: 0.0261 - val_mean_absolute_error: 0.1157 - val_coeff_determination_metric: 0.5364\n",
      "Epoch 13/15\n",
      "69888/70000 [============================>.] - ETA: 1s - loss: 0.0101 - mean_squared_error: 0.0101 - mean_absolute_error: 0.0739 - coeff_determination_metric: 0.8201\n",
      "Epoch 00013: val_loss did not improve\n",
      "70000/70000 [==============================] - 844s 12ms/step - loss: 0.0101 - mean_squared_error: 0.0101 - mean_absolute_error: 0.0739 - coeff_determination_metric: 0.8201 - val_loss: 0.0265 - val_mean_squared_error: 0.0265 - val_mean_absolute_error: 0.1161 - val_coeff_determination_metric: 0.5288\n",
      "Epoch 14/15\n",
      "69888/70000 [============================>.] - ETA: 1s - loss: 0.0092 - mean_squared_error: 0.0092 - mean_absolute_error: 0.0704 - coeff_determination_metric: 0.8351\n",
      "Epoch 00014: val_loss did not improve\n",
      "70000/70000 [==============================] - 896s 13ms/step - loss: 0.0092 - mean_squared_error: 0.0092 - mean_absolute_error: 0.0704 - coeff_determination_metric: 0.8349 - val_loss: 0.0282 - val_mean_squared_error: 0.0282 - val_mean_absolute_error: 0.1177 - val_coeff_determination_metric: 0.4998\n",
      "Epoch 15/15\n",
      "69888/70000 [============================>.] - ETA: 1s - loss: 0.0085 - mean_squared_error: 0.0085 - mean_absolute_error: 0.0673 - coeff_determination_metric: 0.8481\n",
      "Epoch 00015: val_loss did not improve\n",
      "70000/70000 [==============================] - 893s 13ms/step - loss: 0.0085 - mean_squared_error: 0.0085 - mean_absolute_error: 0.0674 - coeff_determination_metric: 0.8481 - val_loss: 0.0273 - val_mean_squared_error: 0.0273 - val_mean_absolute_error: 0.1160 - val_coeff_determination_metric: 0.5167\n"
     ]
    },
    {
     "data": {
      "text/plain": [
       "<keras.callbacks.History at 0x7ff2060dfef0>"
      ]
     },
     "execution_count": 12,
     "metadata": {},
     "output_type": "execute_result"
    }
   ],
   "source": [
    "# LSTM 200\n",
    "def make_lstm_model(top_words, max_words):\n",
    "    model = Sequential()\n",
    "    model.add(Embedding(top_words, 100, input_length=max_words))\n",
    "    model.add(LSTM(200, return_sequences=True))\n",
    "    model.add(LSTM(200))\n",
    "    model.add(Dense(1, activation='sigmoid'))\n",
    "    model.compile(loss='mse',\n",
    "                  optimizer=Adam(),\n",
    "                  metrics=['mse', 'mae', coeff_determination_metric])\n",
    "    return model\n",
    "\n",
    "model = make_lstm_model(TOP_WORDS, MAX_WORDS)\n",
    "print(model.summary())\n",
    "\n",
    "checkpointer = ModelCheckpoint(filepath='../trained_models/asp1.regress.bs128.nodrop.lstm200.100dimembed.weights.{epoch:02d}-{val_loss:.4f}.hdf5',\n",
    "                               verbose=1,\n",
    "                               monitor='val_loss',\n",
    "                               save_best_only=True)\n",
    "\n",
    "model.fit(X_train, y_train,\n",
    "          validation_data=(X_val, y_val),\n",
    "          epochs=15,\n",
    "          batch_size=128,\n",
    "          callbacks=[checkpointer],\n",
    "          verbose=1)"
   ]
  }
 ],
 "metadata": {
  "kernelspec": {
   "display_name": "Python 3",
   "language": "python",
   "name": "python3"
  },
  "language_info": {
   "codemirror_mode": {
    "name": "ipython",
    "version": 3
   },
   "file_extension": ".py",
   "mimetype": "text/x-python",
   "name": "python",
   "nbconvert_exporter": "python",
   "pygments_lexer": "ipython3",
   "version": "3.6.6"
  }
 },
 "nbformat": 4,
 "nbformat_minor": 2
}
