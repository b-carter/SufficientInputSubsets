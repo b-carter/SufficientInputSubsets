{
 "cells": [
  {
   "cell_type": "markdown",
   "metadata": {},
   "source": [
    "## SIS on Beer Reviews - Model Training Aspect 2 (Palate)"
   ]
  },
  {
   "cell_type": "code",
   "execution_count": 2,
   "metadata": {},
   "outputs": [],
   "source": [
    "import numpy as np\n",
    "from matplotlib import pyplot as plt\n",
    "import seaborn as sns\n",
    "import os\n",
    "import sys\n",
    "import gzip\n",
    "sys.path.insert(0, os.path.abspath('..'))\n",
    "\n",
    "from keras.callbacks import ModelCheckpoint\n",
    "from keras.models import load_model, Model, Sequential\n",
    "from keras.layers import Input, Dense, Flatten, LSTM\n",
    "from keras.layers.embeddings import Embedding\n",
    "from keras.optimizers import Adam\n",
    "from keras.preprocessing import sequence, text\n",
    "from keras import backend as K\n",
    "from sklearn.model_selection import train_test_split"
   ]
  },
  {
   "cell_type": "code",
   "execution_count": 3,
   "metadata": {},
   "outputs": [],
   "source": [
    "import os\n",
    "import tensorflow as tf\n",
    "\n",
    "os.environ['CUDA_DEVICE_ORDER'] = 'PCI_BUS_ID'\n",
    "os.environ['CUDA_VISIBLE_DEVICES'] = '1'\n",
    "\n",
    "config = tf.ConfigProto()\n",
    "config.gpu_options.allow_growth = True\n",
    "config.allow_soft_placement = True\n",
    "\n",
    "sess = tf.Session(config=config)\n",
    "\n",
    "K.set_session(sess)"
   ]
  },
  {
   "cell_type": "code",
   "execution_count": 4,
   "metadata": {},
   "outputs": [],
   "source": [
    "def load_reviews(path, verbose=True):\n",
    "    data_x, data_y = [ ], [ ]\n",
    "    fopen = gzip.open if path.endswith(\".gz\") else open\n",
    "    with fopen(path) as fin:\n",
    "        for line in fin:\n",
    "            line = line.decode('ascii')\n",
    "            y, sep, x = line.partition(\"\\t\")\n",
    "            # x = x.split()\n",
    "            y = y.split()\n",
    "            if len(x) == 0: continue\n",
    "            y = np.asarray([ float(v) for v in y ])\n",
    "            data_x.append(x)\n",
    "            data_y.append(y)\n",
    "\n",
    "    if verbose:\n",
    "        print(\"{} examples loaded from {}\".format(len(data_x), path))\n",
    "        print(\"max text length: {}\".format(max(len(x) for x in data_x)))\n",
    "\n",
    "    return data_x, data_y"
   ]
  },
  {
   "cell_type": "code",
   "execution_count": 5,
   "metadata": {},
   "outputs": [
    {
     "name": "stdout",
     "output_type": "stream",
     "text": [
      "70000 examples loaded from ../data/beer_reviews/reviews.aspect2.train.txt.gz\n",
      "max text length: 5085\n",
      "10000 examples loaded from ../data/beer_reviews/reviews.aspect2.heldout.txt.gz\n",
      "max text length: 4466\n"
     ]
    }
   ],
   "source": [
    "# Load beer review data for a particular aspect\n",
    "\n",
    "ASPECT = 2  # 1, 2, or 3\n",
    "\n",
    "BASE_PATH = '../data/beer_reviews/'\n",
    "\n",
    "path = os.path.join(BASE_PATH, 'reviews.aspect' + str(ASPECT))\n",
    "train_path = path + '.train.txt.gz'\n",
    "heldout_path = path + '.heldout.txt.gz'\n",
    "\n",
    "X_train_texts, y_train = load_reviews(train_path)\n",
    "X_test_texts, y_test = load_reviews(heldout_path)\n",
    "\n",
    "# y value is just the sentiment for this aspect, throw away the other scores\n",
    "y_train = np.array([y[ASPECT] for y in y_train])\n",
    "y_test = np.array([y[ASPECT] for y in y_test])\n",
    "\n",
    "# Create a 3k validation set held-out from the test set\n",
    "X_test_texts, X_val_texts, y_test, y_val = train_test_split(\n",
    "                                                X_test_texts,\n",
    "                                                y_test,\n",
    "                                                test_size=3000,\n",
    "                                                random_state=42)"
   ]
  },
  {
   "cell_type": "code",
   "execution_count": 6,
   "metadata": {},
   "outputs": [
    {
     "data": {
      "image/png": "[encoded data removed]",
      "text/plain": [
       "<Figure size 432x288 with 1 Axes>"
      ]
     },
     "metadata": {},
     "output_type": "display_data"
    },
    {
     "name": "stdout",
     "output_type": "stream",
     "text": [
      "Mean: 0.677\n",
      "Median: 0.600\n",
      "Stdev: 0.231\n",
      "Review length:\n",
      "Mean 157.32 words (stddev: 83.831633)\n"
     ]
    },
    {
     "data": {
      "image/png": "[encoded data removed]",
      "text/plain": [
       "<Figure size 432x288 with 1 Axes>"
      ]
     },
     "metadata": {},
     "output_type": "display_data"
    }
   ],
   "source": [
    "plt.hist(y_train)\n",
    "plt.show()\n",
    "\n",
    "print('Mean: %.3f' % np.mean(y_train))\n",
    "print('Median: %.3f' % np.median(y_train))\n",
    "print('Stdev: %.3f' % np.std(y_train))\n",
    "\n",
    "print('Review length:')\n",
    "train_texts_lengths = [len(x.split(' ')) for x in X_train_texts]\n",
    "print(\"Mean %.2f words (stddev: %f)\" % \\\n",
    "      (np.mean(train_texts_lengths),\n",
    "       np.std(train_texts_lengths)))\n",
    "\n",
    "# plot review lengths\n",
    "plt.boxplot(train_texts_lengths)\n",
    "plt.show()"
   ]
  },
  {
   "cell_type": "code",
   "execution_count": 7,
   "metadata": {},
   "outputs": [
    {
     "name": "stdout",
     "output_type": "stream",
     "text": [
      "70000\n",
      "3000\n",
      "7000\n"
     ]
    }
   ],
   "source": [
    "# Tokenize the texts and keep only the top n words\n",
    "\n",
    "TOP_WORDS = 10000\n",
    "\n",
    "tokenizer = text.Tokenizer(num_words=TOP_WORDS)\n",
    "\n",
    "tokenizer.fit_on_texts(X_train_texts)\n",
    "\n",
    "X_train = tokenizer.texts_to_sequences(X_train_texts)\n",
    "X_val = tokenizer.texts_to_sequences(X_val_texts)\n",
    "X_test = tokenizer.texts_to_sequences(X_test_texts)\n",
    "\n",
    "print(len(X_train))\n",
    "print(len(X_val))\n",
    "print(len(X_test))"
   ]
  },
  {
   "cell_type": "code",
   "execution_count": 8,
   "metadata": {},
   "outputs": [],
   "source": [
    "# Bound reviews at 500 words, truncating longer reviews and zero-padding shorter reviews\n",
    "\n",
    "MAX_WORDS = 500\n",
    "\n",
    "X_train = sequence.pad_sequences(X_train, maxlen=MAX_WORDS)\n",
    "X_val = sequence.pad_sequences(X_val, maxlen=MAX_WORDS)\n",
    "X_test = sequence.pad_sequences(X_test, maxlen=MAX_WORDS)"
   ]
  },
  {
   "cell_type": "code",
   "execution_count": 9,
   "metadata": {},
   "outputs": [],
   "source": [
    "index_to_token = {tokenizer.word_index[k]: k for k in tokenizer.word_index.keys()}"
   ]
  },
  {
   "cell_type": "markdown",
   "metadata": {},
   "source": [
    "## LSTM Model"
   ]
  },
  {
   "cell_type": "code",
   "execution_count": 12,
   "metadata": {},
   "outputs": [],
   "source": [
    "def coeff_determination_metric(y_true, y_pred):\n",
    "    SS_res =  K.sum(K.square( y_true-y_pred ))\n",
    "    SS_tot = K.sum(K.square( y_true - K.mean(y_true) ) )\n",
    "    return ( 1 - SS_res/(SS_tot + K.epsilon()) )"
   ]
  },
  {
   "cell_type": "code",
   "execution_count": 13,
   "metadata": {
    "scrolled": false
   },
   "outputs": [
    {
     "name": "stdout",
     "output_type": "stream",
     "text": [
      "_________________________________________________________________\n",
      "Layer (type)                 Output Shape              Param #   \n",
      "=================================================================\n",
      "embedding_1 (Embedding)      (None, 500, 100)          1000000   \n",
      "_________________________________________________________________\n",
      "lstm_1 (LSTM)                (None, 500, 200)          240800    \n",
      "_________________________________________________________________\n",
      "lstm_2 (LSTM)                (None, 200)               320800    \n",
      "_________________________________________________________________\n",
      "dense_1 (Dense)              (None, 1)                 201       \n",
      "=================================================================\n",
      "Total params: 1,561,801\n",
      "Trainable params: 1,561,801\n",
      "Non-trainable params: 0\n",
      "_________________________________________________________________\n",
      "None\n",
      "Train on 70000 samples, validate on 3000 samples\n",
      "Epoch 1/15\n",
      "69888/70000 [============================>.] - ETA: 1s - loss: 0.0376 - mean_squared_error: 0.0376 - mean_absolute_error: 0.1607 - coeff_determination_metric: 0.2861\n",
      "Epoch 00001: val_loss improved from inf to 0.03375, saving model to ../trained_models/asp2.regress.bs128.nodrop.lstm200.100dimembed.weights.01-0.0337.hdf5\n",
      "70000/70000 [==============================] - 916s 13ms/step - loss: 0.0376 - mean_squared_error: 0.0376 - mean_absolute_error: 0.1607 - coeff_determination_metric: 0.2862 - val_loss: 0.0337 - val_mean_squared_error: 0.0337 - val_mean_absolute_error: 0.1539 - val_coeff_determination_metric: 0.3532\n",
      "Epoch 2/15\n",
      "69888/70000 [============================>.] - ETA: 1s - loss: 0.0312 - mean_squared_error: 0.0312 - mean_absolute_error: 0.1435 - coeff_determination_metric: 0.4065\n",
      "Epoch 00002: val_loss improved from 0.03375 to 0.03214, saving model to ../trained_models/asp2.regress.bs128.nodrop.lstm200.100dimembed.weights.02-0.0321.hdf5\n",
      "70000/70000 [==============================] - 906s 13ms/step - loss: 0.0312 - mean_squared_error: 0.0312 - mean_absolute_error: 0.1435 - coeff_determination_metric: 0.4065 - val_loss: 0.0321 - val_mean_squared_error: 0.0321 - val_mean_absolute_error: 0.1471 - val_coeff_determination_metric: 0.3835\n",
      "Epoch 3/15\n",
      "69888/70000 [============================>.] - ETA: 1s - loss: 0.0258 - mean_squared_error: 0.0258 - mean_absolute_error: 0.1282 - coeff_determination_metric: 0.5095\n",
      "Epoch 00003: val_loss improved from 0.03214 to 0.02969, saving model to ../trained_models/asp2.regress.bs128.nodrop.lstm200.100dimembed.weights.03-0.0297.hdf5\n",
      "70000/70000 [==============================] - 895s 13ms/step - loss: 0.0258 - mean_squared_error: 0.0258 - mean_absolute_error: 0.1281 - coeff_determination_metric: 0.5097 - val_loss: 0.0297 - val_mean_squared_error: 0.0297 - val_mean_absolute_error: 0.1360 - val_coeff_determination_metric: 0.4301\n",
      "Epoch 4/15\n",
      "69888/70000 [============================>.] - ETA: 1s - loss: 0.0225 - mean_squared_error: 0.0225 - mean_absolute_error: 0.1179 - coeff_determination_metric: 0.5707\n",
      "Epoch 00004: val_loss did not improve\n",
      "70000/70000 [==============================] - 867s 12ms/step - loss: 0.0225 - mean_squared_error: 0.0225 - mean_absolute_error: 0.1179 - coeff_determination_metric: 0.5707 - val_loss: 0.0301 - val_mean_squared_error: 0.0301 - val_mean_absolute_error: 0.1338 - val_coeff_determination_metric: 0.4230\n",
      "Epoch 5/15\n",
      "69888/70000 [============================>.] - ETA: 1s - loss: 0.0197 - mean_squared_error: 0.0197 - mean_absolute_error: 0.1085 - coeff_determination_metric: 0.6247\n",
      "Epoch 00005: val_loss improved from 0.02969 to 0.02922, saving model to ../trained_models/asp2.regress.bs128.nodrop.lstm200.100dimembed.weights.05-0.0292.hdf5\n",
      "70000/70000 [==============================] - 886s 13ms/step - loss: 0.0197 - mean_squared_error: 0.0197 - mean_absolute_error: 0.1085 - coeff_determination_metric: 0.6247 - val_loss: 0.0292 - val_mean_squared_error: 0.0292 - val_mean_absolute_error: 0.1327 - val_coeff_determination_metric: 0.4389\n",
      "Epoch 6/15\n",
      "69888/70000 [============================>.] - ETA: 1s - loss: 0.0175 - mean_squared_error: 0.0175 - mean_absolute_error: 0.1011 - coeff_determination_metric: 0.6666\n",
      "Epoch 00006: val_loss did not improve\n",
      "70000/70000 [==============================] - 887s 13ms/step - loss: 0.0175 - mean_squared_error: 0.0175 - mean_absolute_error: 0.1011 - coeff_determination_metric: 0.6665 - val_loss: 0.0295 - val_mean_squared_error: 0.0295 - val_mean_absolute_error: 0.1293 - val_coeff_determination_metric: 0.4323\n",
      "Epoch 7/15\n",
      "69888/70000 [============================>.] - ETA: 1s - loss: 0.0155 - mean_squared_error: 0.0155 - mean_absolute_error: 0.0942 - coeff_determination_metric: 0.7044\n",
      "Epoch 00007: val_loss did not improve\n",
      "70000/70000 [==============================] - 880s 13ms/step - loss: 0.0155 - mean_squared_error: 0.0155 - mean_absolute_error: 0.0942 - coeff_determination_metric: 0.7044 - val_loss: 0.0308 - val_mean_squared_error: 0.0308 - val_mean_absolute_error: 0.1321 - val_coeff_determination_metric: 0.4073\n",
      "Epoch 8/15\n",
      "69888/70000 [============================>.] - ETA: 1s - loss: 0.0137 - mean_squared_error: 0.0137 - mean_absolute_error: 0.0878 - coeff_determination_metric: 0.7384\n",
      "Epoch 00008: val_loss did not improve\n",
      "70000/70000 [==============================] - 915s 13ms/step - loss: 0.0137 - mean_squared_error: 0.0137 - mean_absolute_error: 0.0878 - coeff_determination_metric: 0.7385 - val_loss: 0.0316 - val_mean_squared_error: 0.0316 - val_mean_absolute_error: 0.1330 - val_coeff_determination_metric: 0.3931\n",
      "Epoch 9/15\n",
      "69888/70000 [============================>.] - ETA: 1s - loss: 0.0124 - mean_squared_error: 0.0124 - mean_absolute_error: 0.0830 - coeff_determination_metric: 0.7632\n",
      "Epoch 00009: val_loss did not improve\n",
      "70000/70000 [==============================] - 931s 13ms/step - loss: 0.0124 - mean_squared_error: 0.0124 - mean_absolute_error: 0.0830 - coeff_determination_metric: 0.7632 - val_loss: 0.0326 - val_mean_squared_error: 0.0326 - val_mean_absolute_error: 0.1340 - val_coeff_determination_metric: 0.3736\n",
      "Epoch 10/15\n",
      "69888/70000 [============================>.] - ETA: 1s - loss: 0.0112 - mean_squared_error: 0.0112 - mean_absolute_error: 0.0784 - coeff_determination_metric: 0.7860\n",
      "Epoch 00010: val_loss did not improve\n",
      "70000/70000 [==============================] - 902s 13ms/step - loss: 0.0112 - mean_squared_error: 0.0112 - mean_absolute_error: 0.0784 - coeff_determination_metric: 0.7860 - val_loss: 0.0332 - val_mean_squared_error: 0.0332 - val_mean_absolute_error: 0.1327 - val_coeff_determination_metric: 0.3591\n",
      "Epoch 11/15\n",
      "69888/70000 [============================>.] - ETA: 1s - loss: 0.0098 - mean_squared_error: 0.0098 - mean_absolute_error: 0.0727 - coeff_determination_metric: 0.8138\n",
      "Epoch 00011: val_loss did not improve\n",
      "70000/70000 [==============================] - 916s 13ms/step - loss: 0.0098 - mean_squared_error: 0.0098 - mean_absolute_error: 0.0727 - coeff_determination_metric: 0.8138 - val_loss: 0.0336 - val_mean_squared_error: 0.0336 - val_mean_absolute_error: 0.1334 - val_coeff_determination_metric: 0.3530\n",
      "Epoch 12/15\n",
      "69888/70000 [============================>.] - ETA: 1s - loss: 0.0089 - mean_squared_error: 0.0089 - mean_absolute_error: 0.0691 - coeff_determination_metric: 0.8296\n",
      "Epoch 00012: val_loss did not improve\n",
      "70000/70000 [==============================] - 917s 13ms/step - loss: 0.0089 - mean_squared_error: 0.0089 - mean_absolute_error: 0.0691 - coeff_determination_metric: 0.8296 - val_loss: 0.0339 - val_mean_squared_error: 0.0339 - val_mean_absolute_error: 0.1338 - val_coeff_determination_metric: 0.3494\n",
      "Epoch 13/15\n",
      "69888/70000 [============================>.] - ETA: 1s - loss: 0.0080 - mean_squared_error: 0.0080 - mean_absolute_error: 0.0652 - coeff_determination_metric: 0.8469\n",
      "Epoch 00013: val_loss did not improve\n",
      "70000/70000 [==============================] - 915s 13ms/step - loss: 0.0080 - mean_squared_error: 0.0080 - mean_absolute_error: 0.0652 - coeff_determination_metric: 0.8468 - val_loss: 0.0343 - val_mean_squared_error: 0.0343 - val_mean_absolute_error: 0.1342 - val_coeff_determination_metric: 0.3410\n",
      "Epoch 14/15\n",
      "69888/70000 [============================>.] - ETA: 1s - loss: 0.0074 - mean_squared_error: 0.0074 - mean_absolute_error: 0.0627 - coeff_determination_metric: 0.8581\n",
      "Epoch 00014: val_loss did not improve\n",
      "70000/70000 [==============================] - 864s 12ms/step - loss: 0.0074 - mean_squared_error: 0.0074 - mean_absolute_error: 0.0627 - coeff_determination_metric: 0.8581 - val_loss: 0.0347 - val_mean_squared_error: 0.0347 - val_mean_absolute_error: 0.1326 - val_coeff_determination_metric: 0.3326\n",
      "Epoch 15/15\n",
      "69888/70000 [============================>.] - ETA: 1s - loss: 0.0066 - mean_squared_error: 0.0066 - mean_absolute_error: 0.0592 - coeff_determination_metric: 0.8734\n",
      "Epoch 00015: val_loss did not improve\n",
      "70000/70000 [==============================] - 876s 13ms/step - loss: 0.0066 - mean_squared_error: 0.0066 - mean_absolute_error: 0.0592 - coeff_determination_metric: 0.8734 - val_loss: 0.0342 - val_mean_squared_error: 0.0342 - val_mean_absolute_error: 0.1325 - val_coeff_determination_metric: 0.3416\n"
     ]
    },
    {
     "data": {
      "text/plain": [
       "<keras.callbacks.History at 0x7f74b814cf28>"
      ]
     },
     "execution_count": 13,
     "metadata": {},
     "output_type": "execute_result"
    }
   ],
   "source": [
    "# LSTM200 model\n",
    "\n",
    "def make_lstm_model(top_words, max_words):\n",
    "    model = Sequential()\n",
    "    model.add(Embedding(top_words, 100, input_length=max_words))\n",
    "    model.add(LSTM(200, return_sequences=True))\n",
    "    model.add(LSTM(200))\n",
    "    model.add(Dense(1, activation='sigmoid'))\n",
    "    model.compile(loss='mse',\n",
    "                  optimizer=Adam(),\n",
    "                  metrics=['mse', 'mae', coeff_determination_metric])\n",
    "    return model\n",
    "\n",
    "model = make_lstm_model(TOP_WORDS, MAX_WORDS)\n",
    "print(model.summary())\n",
    "\n",
    "checkpointer = ModelCheckpoint(filepath='../trained_models/asp2.regress.bs128.nodrop.lstm200.100dimembed.weights.{epoch:02d}-{val_loss:.4f}.hdf5',\n",
    "                               verbose=1,\n",
    "                               monitor='val_loss',\n",
    "                               save_best_only=True)\n",
    "\n",
    "model.fit(X_train, y_train,\n",
    "          validation_data=(X_val, y_val),\n",
    "          epochs=15,\n",
    "          batch_size=128,\n",
    "          callbacks=[checkpointer],\n",
    "          verbose=1)"
   ]
  }
 ],
 "metadata": {
  "kernelspec": {
   "display_name": "Python 3",
   "language": "python",
   "name": "python3"
  },
  "language_info": {
   "codemirror_mode": {
    "name": "ipython",
    "version": 3
   },
   "file_extension": ".py",
   "mimetype": "text/x-python",
   "name": "python",
   "nbconvert_exporter": "python",
   "pygments_lexer": "ipython3",
   "version": "3.6.6"
  }
 },
 "nbformat": 4,
 "nbformat_minor": 2
}
