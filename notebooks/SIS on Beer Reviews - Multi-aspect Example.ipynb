{
 "cells": [
  {
   "cell_type": "code",
   "execution_count": 10,
   "metadata": {},
   "outputs": [],
   "source": [
    "import numpy as np\n",
    "from matplotlib import pyplot as plt\n",
    "import seaborn as sns\n",
    "sns.set(style='whitegrid')\n",
    "import os\n",
    "import sys\n",
    "sys.path.insert(0, os.path.abspath('..'))\n",
    "\n",
    "import sis\n",
    "import sis_visualizations as visualizations\n",
    "from rationale_objects import Rationale, BeerReview, BeerReviewContainer, SIS_RATIONALE_KEY\n",
    "\n",
    "from IPython.core.display import display, HTML"
   ]
  },
  {
   "cell_type": "code",
   "execution_count": 2,
   "metadata": {},
   "outputs": [],
   "source": [
    "brc_asp0 = BeerReviewContainer.load_data('../rationale_results/beer_reviews/asp0')\n",
    "brc_asp1 = BeerReviewContainer.load_data('../rationale_results/beer_reviews/asp1')\n",
    "brc_asp2 = BeerReviewContainer.load_data('../rationale_results/beer_reviews/asp2')"
   ]
  },
  {
   "cell_type": "code",
   "execution_count": 3,
   "metadata": {},
   "outputs": [],
   "source": [
    "# Want cases where only 1 SIS and example predicted as interesting for all aspects\n",
    "\n",
    "asp0_idxs = [review.i for review in brc_asp0.get_all_reviews() \\\n",
    "             if len(review.get_rationales(SIS_RATIONALE_KEY)) == 1]\n",
    "\n",
    "asp1_idxs = [review.i for review in brc_asp1.get_all_reviews() \\\n",
    "             if len(review.get_rationales(SIS_RATIONALE_KEY)) == 1]\n",
    "\n",
    "asp2_idxs = [review.i for review in brc_asp2.get_all_reviews() \\\n",
    "             if len(review.get_rationales(SIS_RATIONALE_KEY)) == 1]"
   ]
  },
  {
   "cell_type": "code",
   "execution_count": 4,
   "metadata": {},
   "outputs": [],
   "source": [
    "common_idxs = sorted(list(set(asp0_idxs).intersection(set(asp1_idxs).intersection(set(asp2_idxs)))))"
   ]
  },
  {
   "cell_type": "code",
   "execution_count": 5,
   "metadata": {},
   "outputs": [],
   "source": [
    "def html_for_i(i):\n",
    "    asp0_sis = brc_asp0.get_review(i).get_rationales(SIS_RATIONALE_KEY)[0]\n",
    "    asp1_sis = brc_asp1.get_review(i).get_rationales(SIS_RATIONALE_KEY)[0]\n",
    "    asp2_sis = brc_asp2.get_review(i).get_rationales(SIS_RATIONALE_KEY)[0]\n",
    "    html = visualizations.highlight_multi_rationale(brc_asp0.get_review(i), [asp0_sis, asp1_sis, asp2_sis],\n",
    "                                                      brc_asp0.index_to_token, underline_annots=False)    \n",
    "    return html"
   ]
  },
  {
   "cell_type": "code",
   "execution_count": 6,
   "metadata": {},
   "outputs": [
    {
     "name": "stdout",
     "output_type": "stream",
     "text": [
      "i:  99\n"
     ]
    },
    {
     "data": {
      "text/html": [
       "<span style=\"\">2009</span> <span style=\"\">version</span> <span style=\"\">on</span> <span style=\"\">cask</span> <span style=\"\">at</span> <span style=\"\">hop</span> <span style=\"\">project</span> <span style=\"\">day</span> <span style=\"\">a</span> <span style=\"\">slightly</span> <span style=\"background-color:hsl(131.3793, 98.3051%, 68%);\">hazed</span> <span style=\"\">ruby</span> <span style=\"\">red</span> <span style=\"background-color:hsl(131.3793, 98.3051%, 60%);\">grapefruit</span> <span style=\"\">tinged</span> <span style=\"\">copper</span> <span style=\"\">with</span> <span style=\"\">a</span> <span style=\"\">cask</span> <span style=\"\">driven</span> <span style=\"background-color:hsl(226.7717, 100.0000%, 75%);\">billowing</span> <span style=\"\">white</span> <span style=\"background-color:hsl(226.7717, 100.0000%, 90%);\">head</span> <span style=\"\">that</span> <span style=\"\">reduced</span> <span style=\"\">a</span> <span style=\"\">bit</span> <span style=\"\">and</span> <span style=\"\">left</span> <span style=\"\">lace</span> <span style=\"\">s</span> <span style=\"background-color:hsl(131.3793, 98.3051%, 82%);\">fresh</span> <span style=\"\">bright</span> <span style=\"background-color:hsl(131.3793, 98.3051%, 90%);\">floral</span> <span style=\"\">citrus</span> <span style=\"\">and</span> <span style=\"\">light</span> <span style=\"\">spicy</span> <span style=\"\">hop</span> <span style=\"\">pop</span> <span style=\"\">up</span> <span style=\"\">front</span> <span style=\"\">with</span> <span style=\"\">a</span> <span style=\"\">pleasant</span> <span style=\"\">underlying</span> <span style=\"\">light</span> <span style=\"\">caramel</span> <span style=\"\">malt</span> <span style=\"\">sweetness</span> <span style=\"\">t</span> <span style=\"\">initial</span> <span style=\"\">hop</span> <span style=\"\">notes</span> <span style=\"\">of</span> <span style=\"\">fresh</span> <span style=\"\">citrus</span> <span style=\"\">spicy</span> <span style=\"\">pine</span> <span style=\"\">and</span> <span style=\"\">floral</span> <span style=\"\">notes</span> <span style=\"\">with</span> <span style=\"\">the</span> <span style=\"\">backing</span> <span style=\"\">of</span> <span style=\"\">sweet</span> <span style=\"\">caramel</span> <span style=\"\">malt</span> <span style=\"\">quite</span> <span style=\"\">balanced</span> <span style=\"\">but</span> <span style=\"\">does</span> <span style=\"\">lean</span> <span style=\"\">towards</span> <span style=\"\">the</span> <span style=\"\">hops</span> <span style=\"\">m</span> <span style=\"\">medium</span> <span style=\"\">bodied</span> <span style=\"\">quite</span> <span style=\"background-color:hsl(3.8571, 100.0000%, 60%);\">smooth</span> <span style=\"\">with</span> <span style=\"\">only</span> <span style=\"\">a</span> <span style=\"\">touch</span> <span style=\"\">of</span> <span style=\"background-color:hsl(131.3793, 98.3051%, 75%);\">sharpness</span> <span style=\"\">long</span> <span style=\"\">lingering</span> <span style=\"\">hop</span> <span style=\"\">bitterness</span> <span style=\"\">d</span> <span style=\"\">i</span> <span style=\"\">have</span> <span style=\"\">always</span> <span style=\"\">been</span> <span style=\"\">an</span> <span style=\"\">fan</span> <span style=\"\">and</span> <span style=\"\">this</span> <span style=\"\">beer</span> <span style=\"\">on</span> <span style=\"background-color:hsl(3.8571, 100.0000%, 90%);\">cask</span> <span style=\"\">simply</span> <span style=\"background-color:hsl(3.8571, 100.0000%, 75%);\">shines</span> <span style=\"\">very</span> <span style=\"\">well</span> <span style=\"background-color:hsl(226.7717, 100.0000%, 60%);\">constructed</span>"
      ],
      "text/plain": [
       "<IPython.core.display.HTML object>"
      ]
     },
     "metadata": {},
     "output_type": "display_data"
    },
    {
     "name": "stdout",
     "output_type": "stream",
     "text": [
      "i:  105\n"
     ]
    },
    {
     "data": {
      "text/html": [
       "<span style=\"\">this</span> <span style=\"\">is</span> <span style=\"\">a</span> <span style=\"\">very</span> <span style=\"\">tasty</span> <span style=\"\">doppelbock</span> <span style=\"\">that</span> <span style=\"\">'s</span> <span style=\"\">also</span> <span style=\"\">very</span> <span style=\"\">mellow</span> <span style=\"\">and</span> <span style=\"\">easy</span> <span style=\"\">to</span> <span style=\"\">drink</span> <span style=\"\">almost</span> <span style=\"background-color:hsl(226.7717, 100.0000%, 60%);\">black</span> <span style=\"\">it</span> <span style=\"\">has</span> <span style=\"\">a</span> <span style=\"\">very</span> <span style=\"background-color:hsl(226.7717, 100.0000%, 80%);\">large</span> <span style=\"\">light</span> <span style=\"\">brown</span> <span style=\"background-color:hsl(226.7717, 100.0000%, 90%);\">head</span> <span style=\"\">very</span> <span style=\"background-color:hsl(226.7717, 100.0000%, 70%);\">slowly</span> <span style=\"background-color:hsl(131.3793, 98.3051%, 70%);\">shrinking</span> <span style=\"\">the</span> <span style=\"\">aroma</span> <span style=\"\">is</span> <span style=\"\">rich</span> <span style=\"background-color:hsl(131.3793, 98.3051%, 80%);\">prune</span> <span style=\"background-color:hsl(131.3793, 98.3051%, 90%);\">raisins</span> <span style=\"\">sweet</span> <span style=\"\">brown</span> <span style=\"\">bread</span> <span style=\"\">bread</span> <span style=\"\">hints</span> <span style=\"\">of</span> <span style=\"\">dark</span> <span style=\"\">rum</span> <span style=\"\">the</span> <span style=\"\">taste</span> <span style=\"\">is</span> <span style=\"\">rich</span> <span style=\"\">dark</span> <span style=\"\">toasted</span> <span style=\"\">brown</span> <span style=\"\">bread</span> <span style=\"\">molasses</span> <span style=\"\">cake</span> <span style=\"\">prunes</span> <span style=\"\">winey</span> <span style=\"\">prunes</span> <span style=\"\">and</span> <span style=\"\">raisins</span> <span style=\"\">faintly</span> <span style=\"background-color:hsl(131.3793, 98.3051%, 60%);\">rummy</span> <span style=\"\">and</span> <span style=\"\">with</span> <span style=\"\">a</span> <span style=\"\">hint</span> <span style=\"\">of</span> <span style=\"\">coffee</span> <span style=\"\">it</span> <span style=\"\">'s</span> <span style=\"\">generally</span> <span style=\"\">sweet</span> <span style=\"\">with</span> <span style=\"\">with</span> <span style=\"\">very</span> <span style=\"\">faint</span> <span style=\"\">bitterness</span> <span style=\"\">and</span> <span style=\"\">spiciness</span> <span style=\"\">the</span> <span style=\"\">feel</span> <span style=\"\">is</span> <span style=\"background-color:hsl(3.8571, 100.0000%, 90%);\">rich</span> <span style=\"\">and</span> <span style=\"background-color:hsl(3.8571, 100.0000%, 60%);\">smooth</span> <span style=\"\">and</span> <span style=\"\">it</span> <span style=\"\">'s</span> <span style=\"\">very</span> <span style=\"background-color:hsl(3.8571, 100.0000%, 75%);\">smooth</span> <span style=\"\">and</span> <span style=\"\">easy</span> <span style=\"\">to</span> <span style=\"\">drink</span>"
      ],
      "text/plain": [
       "<IPython.core.display.HTML object>"
      ]
     },
     "metadata": {},
     "output_type": "display_data"
    },
    {
     "name": "stdout",
     "output_type": "stream",
     "text": [
      "i:  160\n"
     ]
    },
    {
     "data": {
      "text/html": [
       "<span style=\"\">poured</span> <span style=\"\">from</span> <span style=\"\">a</span> <span style=\"\">bottle</span> <span style=\"\">into</span> <span style=\"\">a</span> <span style=\"\">duvel</span> <span style=\"\">tulip</span> <span style=\"\">a</span> <span style=\"\">pours</span> <span style=\"\">a</span> <span style=\"\">dark</span> <span style=\"\">shade</span> <span style=\"\">of</span> <span style=\"\">amber</span> <span style=\"\">with</span> <span style=\"\">a</span> <span style=\"background-color:hsl(226.7717, 100.0000%, 60%);\">three</span> <span style=\"\">finger</span> <span style=\"\">slightly</span> <span style=\"\">offwhite</span> <span style=\"background-color:hsl(226.7717, 100.0000%, 66%);\">head</span> <span style=\"\">the</span> <span style=\"background-color:hsl(226.7717, 100.0000%, 72%);\">head</span> <span style=\"\">is</span> <span style=\"\">very</span> <span style=\"background-color:hsl(226.7717, 100.0000%, 84%);\">puffy</span> <span style=\"\">and</span> <span style=\"\">the</span> <span style=\"background-color:hsl(226.7717, 100.0000%, 78%);\">lacing</span> <span style=\"\">is</span> <span style=\"\">all</span> <span style=\"\">the</span> <span style=\"\">way</span> <span style=\"\">around</span> <span style=\"\">the</span> <span style=\"\">glass</span> <span style=\"\">4</span> <span style=\"\">5</span> <span style=\"\">s</span> <span style=\"\">earthy</span> <span style=\"\">hops</span> <span style=\"\">but</span> <span style=\"\">they</span> <span style=\"background-color:hsl(131.3793, 98.3051%, 70%);\">smell</span> <span style=\"\">absolutely</span> <span style=\"background-color:hsl(131.3793, 98.3051%, 60%);\">wonderful</span> <span style=\"\">and</span> <span style=\"\">strong</span> <span style=\"\">getting</span> <span style=\"\">some</span> <span style=\"\">hints</span> <span style=\"\">of</span> <span style=\"\">cat</span> <span style=\"\">piss</span> <span style=\"\">as</span> <span style=\"\">well</span> <span style=\"background-color:hsl(131.3793, 98.3051%, 80%);\">simcoe</span> <span style=\"\">up</span> <span style=\"\">in</span> <span style=\"\">here</span> <span style=\"\">4</span> <span style=\"\">t</span> <span style=\"\">wow</span> <span style=\"\">the</span> <span style=\"\">bitterness</span> <span style=\"\">is</span> <span style=\"\">strong</span> <span style=\"\">in</span> <span style=\"\">this</span> <span style=\"\">one</span> <span style=\"\">lots</span> <span style=\"\">of</span> <span style=\"\">pine</span> <span style=\"\">up</span> <span style=\"\">front</span> <span style=\"\">and</span> <span style=\"\">the</span> <span style=\"\">finish</span> <span style=\"\">is</span> <span style=\"\">slightly</span> <span style=\"\">sweet</span> <span style=\"\">very</span> <span style=\"\">solid</span> <span style=\"\">4</span> <span style=\"\">m</span> <span style=\"\">it</span> <span style=\"\">has</span> <span style=\"\">a</span> <span style=\"\">real</span> <span style=\"\">nice</span> <span style=\"\">body</span> <span style=\"\">to</span> <span style=\"\">it</span> <span style=\"background-color:hsl(3.8571, 100.0000%, 80%);\">nice</span> <span style=\"\">and</span> <span style=\"background-color:hsl(3.8571, 100.0000%, 70%);\">thick</span> <span style=\"\">not</span> <span style=\"background-color:hsl(3.8571, 100.0000%, 60%);\">chewy</span> <span style=\"\">like</span> <span style=\"\">a</span> <span style=\"\">stout</span> <span style=\"\">but</span> <span style=\"\">it</span> <span style=\"\">has</span> <span style=\"\">that</span> <span style=\"\">nice</span> <span style=\"\">ipa</span> <span style=\"\">backbone</span> <span style=\"\">to</span> <span style=\"\">it</span> <span style=\"\">o</span> <span style=\"\">really</span> <span style=\"\">like</span> <span style=\"\">this</span> <span style=\"\">beer</span> <span style=\"background-color:hsl(131.3793, 98.3051%, 90%);\">tastes</span> <span style=\"\">a</span> <span style=\"\">lot</span> <span style=\"\">like</span> <span style=\"\">torpedo</span> <span style=\"\">but</span> <span style=\"\">a</span> <span style=\"\">little</span> <span style=\"\">less</span> <span style=\"\">abrasive</span> <span style=\"\">and</span> <span style=\"\">fresher</span> <span style=\"\">plus</span> <span style=\"\">at</span> <span style=\"\">4</span> <span style=\"\">79</span> <span style=\"\">for</span> <span style=\"\">a</span> <span style=\"\">bomber</span> <span style=\"\">it</span> <span style=\"\">was</span> <span style=\"\">a</span> <span style=\"background-color:hsl(226.7717, 100.0000%, 90%);\">steal</span> <span style=\"background-color:hsl(3.8571, 100.0000%, 90%);\">5</span>"
      ],
      "text/plain": [
       "<IPython.core.display.HTML object>"
      ]
     },
     "metadata": {},
     "output_type": "display_data"
    },
    {
     "name": "stdout",
     "output_type": "stream",
     "text": [
      "i:  204\n"
     ]
    },
    {
     "data": {
      "text/html": [
       "<span style=\"\">poured</span> <span style=\"\">a</span> <span style=\"\">clear</span> <span style=\"\">orange</span> <span style=\"\">with</span> <span style=\"\">a</span> <span style=\"\">big</span> <span style=\"\">frothy</span> <span style=\"\">white</span> <span style=\"\">head</span> <span style=\"background-color:hsl(226.7717, 100.0000%, 90%);\">nice</span> <span style=\"\">retention</span> <span style=\"\">and</span> <span style=\"background-color:hsl(226.7717, 100.0000%, 60%);\">impressive</span> <span style=\"background-color:hsl(226.7717, 100.0000%, 75%);\">lacings</span> <span style=\"\">very</span> <span style=\"background-color:hsl(131.3793, 98.3051%, 80%);\">aromatic</span> <span style=\"\">with</span> <span style=\"\">a</span> <span style=\"background-color:hsl(131.3793, 98.3051%, 70%);\">massive</span> <span style=\"background-color:hsl(131.3793, 98.3051%, 60%);\">grapefruit</span> <span style=\"\">smell</span> <span style=\"\">orange</span> <span style=\"\">rind</span> <span style=\"\">and</span> <span style=\"\">sweet</span> <span style=\"\">pine</span> <span style=\"\">notes</span> <span style=\"\">are</span> <span style=\"\">also</span> <span style=\"\">present</span> <span style=\"\">bittersweet</span> <span style=\"\">grapefruit</span> <span style=\"background-color:hsl(131.3793, 98.3051%, 90%);\">blends</span> <span style=\"\">with</span> <span style=\"\">a</span> <span style=\"\">nice</span> <span style=\"\">mixture</span> <span style=\"\">of</span> <span style=\"\">hops</span> <span style=\"\">the</span> <span style=\"\">aftertaste</span> <span style=\"\">is</span> <span style=\"\">dry</span> <span style=\"\">and</span> <span style=\"\">bitter</span> <span style=\"\">not</span> <span style=\"\">as</span> <span style=\"\">much</span> <span style=\"\">bitterness</span> <span style=\"\">as</span> <span style=\"\">i</span> <span style=\"\">would</span> <span style=\"\">have</span> <span style=\"\">liked</span> <span style=\"\">and</span> <span style=\"\">somewhat</span> <span style=\"\">one</span> <span style=\"\">dimensional</span> <span style=\"\">with</span> <span style=\"\">the</span> <span style=\"\">citrus</span> <span style=\"\">taste</span> <span style=\"\">after</span> <span style=\"\">such</span> <span style=\"\">a</span> <span style=\"\">formidable</span> <span style=\"\">aroma</span> <span style=\"\">i</span> <span style=\"\">was</span> <span style=\"\">a</span> <span style=\"\">little</span> <span style=\"\">disappointed</span> <span style=\"\">the</span> <span style=\"\">flavor</span> <span style=\"\">is</span> <span style=\"\">not</span> <span style=\"\">very</span> <span style=\"\">different</span> <span style=\"\">from</span> <span style=\"\">middle</span> <span style=\"\">age</span> <span style=\"\">'s</span> <span style=\"\">nicely</span> <span style=\"\">carbonated</span> <span style=\"\">with</span> <span style=\"\">an</span> <span style=\"\">excellent</span> <span style=\"background-color:hsl(3.8571, 100.0000%, 60%);\">mouthfeel</span> <span style=\"background-color:hsl(3.8571, 100.0000%, 90%);\">this</span> <span style=\"\">is</span> <span style=\"\">a</span> <span style=\"\">very</span> <span style=\"\">drinkable</span> <span style=\"\">ipa</span> <span style=\"\">i</span> <span style=\"\">love</span> <span style=\"\">middle</span> <span style=\"\">age</span> <span style=\"\">'s</span> <span style=\"\">marketing</span> <span style=\"\">scheme</span> <span style=\"\">but</span> <span style=\"\">i</span> <span style=\"\">'m</span> <span style=\"\">disappointed</span> <span style=\"\">with</span> <span style=\"\">the</span> <span style=\"\">mediocre</span> <span style=\"\">tastes</span> <span style=\"\">in</span> <span style=\"\">so</span> <span style=\"\">many</span> <span style=\"\">of</span> <span style=\"\">their</span> <span style=\"\">offerings</span> <span style=\"\">this</span> <span style=\"\">is</span> <span style=\"\">another</span> <span style=\"\">beer</span> <span style=\"\">it</span> <span style=\"\">has</span> <span style=\"\">a</span> <span style=\"\">great</span> <span style=\"\">deal</span> <span style=\"\">of</span> <span style=\"\">potential</span> <span style=\"\">but</span> <span style=\"\">the</span> <span style=\"\">taste</span> <span style=\"\">is</span> <span style=\"\">forgettable</span>"
      ],
      "text/plain": [
       "<IPython.core.display.HTML object>"
      ]
     },
     "metadata": {},
     "output_type": "display_data"
    },
    {
     "name": "stdout",
     "output_type": "stream",
     "text": [
      "i:  221\n"
     ]
    },
    {
     "data": {
      "text/html": [
       "<span style=\"\">2007</span> <span style=\"background-color:hsl(131.3793, 98.3051%, 82%);\">vintage</span> <span style=\"\">i</span> <span style=\"\">have</span> <span style=\"\">come</span> <span style=\"\">to</span> <span style=\"\">the</span> <span style=\"\">conclusion</span> <span style=\"\">that</span> <span style=\"\">many</span> <span style=\"\">american</span> <span style=\"background-color:hsl(131.3793, 98.3051%, 75%);\">barleywines</span> <span style=\"\">especially</span> <span style=\"\">bigfoot</span> <span style=\"\">do</span> <span style=\"\">not</span> <span style=\"\">benefit</span> <span style=\"\">from</span> <span style=\"\">long</span> <span style=\"\">aging</span> <span style=\"\">this</span> <span style=\"\">is</span> <span style=\"\">a</span> <span style=\"\">style</span> <span style=\"\">that</span> <span style=\"\">emphasize</span> <span style=\"\">both</span> <span style=\"\">hops</span> <span style=\"\">and</span> <span style=\"\">malt</span> <span style=\"\">and</span> <span style=\"\">if</span> <span style=\"\">you</span> <span style=\"\">age</span> <span style=\"\">it</span> <span style=\"\">too</span> <span style=\"\">long</span> <span style=\"\">the</span> <span style=\"\">hops</span> <span style=\"\">will</span> <span style=\"\">fade</span> <span style=\"\">too</span> <span style=\"\">much</span> <span style=\"\">pours</span> <span style=\"\">a</span> <span style=\"\">deep</span> <span style=\"\">burnished</span> <span style=\"\">copper</span> <span style=\"\">color</span> <span style=\"\">with</span> <span style=\"\">a</span> <span style=\"background-color:hsl(226.7717, 100.0000%, 68%);\">big</span> <span style=\"background-color:hsl(226.7717, 100.0000%, 60%);\">thick</span> <span style=\"background-color:hsl(226.7717, 100.0000%, 75%);\">head</span> <span style=\"background-color:hsl(226.7717, 100.0000%, 90%);\">leaving</span> <span style=\"\">much</span> <span style=\"background-color:hsl(226.7717, 100.0000%, 82%);\">lace</span> <span style=\"\">on</span> <span style=\"\">the</span> <span style=\"\">glass</span> <span style=\"\">citrus</span> <span style=\"\">pine</span> <span style=\"\">lemony</span> <span style=\"\">almost</span> <span style=\"\">spicy</span> <span style=\"\">hops</span> <span style=\"\">with</span> <span style=\"\">a</span> <span style=\"background-color:hsl(131.3793, 98.3051%, 90%);\">sweetish</span> <span style=\"\">caramel</span> <span style=\"\">toffee</span> <span style=\"background-color:hsl(131.3793, 98.3051%, 68%);\">aroma</span> <span style=\"background-color:hsl(131.3793, 98.3051%, 60%);\">backing</span> <span style=\"\">it</span> <span style=\"\">up</span> <span style=\"\">hops</span> <span style=\"\">dominate</span> <span style=\"\">but</span> <span style=\"\">malt</span> <span style=\"\">is</span> <span style=\"\">well</span> <span style=\"\">represented</span> <span style=\"\">alcohol</span> <span style=\"\">evident</span> <span style=\"\">intense</span> <span style=\"\">resiny</span> <span style=\"\">hops</span> <span style=\"\">up</span> <span style=\"\">front</span> <span style=\"\">along</span> <span style=\"\">with</span> <span style=\"\">a</span> <span style=\"\">big</span> <span style=\"\">blast</span> <span style=\"\">of</span> <span style=\"\">intense</span> <span style=\"\">maltiness</span> <span style=\"\">kettle</span> <span style=\"\">caramelization</span> <span style=\"\">perhaps</span> <span style=\"\">very</span> <span style=\"\">piney</span> <span style=\"\">hoppiness</span> <span style=\"\">ethanol</span> <span style=\"\">flavor</span> <span style=\"\">comes</span> <span style=\"\">in</span> <span style=\"\">and</span> <span style=\"\">makes</span> <span style=\"\">its</span> <span style=\"\">presence</span> <span style=\"\">known</span> <span style=\"\">as</span> <span style=\"\">it</span> <span style=\"\">all</span> <span style=\"\">melds</span> <span style=\"\">together</span> <span style=\"\">for</span> <span style=\"\">a</span> <span style=\"\">intensely</span> <span style=\"\">bittersweet</span> <span style=\"\">hop</span> <span style=\"\">flavored</span> <span style=\"\">finish</span> <span style=\"\">leaves</span> <span style=\"\">an</span> <span style=\"\">aftertaste</span> <span style=\"\">of</span> <span style=\"\">powerful</span> <span style=\"\">american</span> <span style=\"\">c</span> <span style=\"\">hops</span> <span style=\"background-color:hsl(3.8571, 100.0000%, 75%);\">mouthfeel</span> <span style=\"\">medium</span> <span style=\"background-color:hsl(3.8571, 100.0000%, 90%);\">full</span> <span style=\"\">with</span> <span style=\"\">medium</span> <span style=\"\">carbonation</span> <span style=\"background-color:hsl(3.8571, 100.0000%, 60%);\">creamy</span> <span style=\"\">with</span> <span style=\"\">a</span> <span style=\"\">slick</span> <span style=\"\">feel</span> <span style=\"\">on</span> <span style=\"\">the</span> <span style=\"\">tongue</span> <span style=\"\">drinkability</span> <span style=\"\">i</span> <span style=\"\">like</span> <span style=\"\">barleywine</span> <span style=\"\">this</span> <span style=\"\">one</span> <span style=\"\">is</span> <span style=\"\">a</span> <span style=\"\">drinkin</span> <span style=\"\">'</span> <span style=\"\">barleywine</span> <span style=\"\">well</span> <span style=\"\">balanced</span> <span style=\"\">i</span> <span style=\"\">have</span> <span style=\"\">really</span> <span style=\"\">come</span> <span style=\"\">to</span> <span style=\"\">love</span> <span style=\"\">this</span> <span style=\"\">beer</span> <span style=\"\">and</span> <span style=\"\">i</span> <span style=\"\">now</span> <span style=\"\">always</span> <span style=\"\">look</span> <span style=\"\">forward</span> <span style=\"\">to</span> <span style=\"\">picking</span> <span style=\"\">up</span> <span style=\"\">a</span> <span style=\"\">case</span> <span style=\"\">or</span> <span style=\"\">two</span> <span style=\"\">when</span> <span style=\"\">it</span> <span style=\"\">comes</span> <span style=\"\">out</span> <span style=\"\">every</span> <span style=\"\">year</span> <span style=\"\">if</span> <span style=\"\">sierra</span> <span style=\"\">nevada</span> <span style=\"\">asked</span> <span style=\"\">me</span> <span style=\"\">to</span> <span style=\"\">pick</span> <span style=\"\">a</span> <span style=\"\">single</span> <span style=\"\">beer</span> <span style=\"\">for</span> <span style=\"\">them</span> <span style=\"\">to</span> <span style=\"\">brew</span> <span style=\"\">year</span> <span style=\"\">round</span> <span style=\"\">this</span> <span style=\"\">would</span> <span style=\"\">be</span> <span style=\"\">it</span> <span style=\"\">the</span> <span style=\"\">best</span> <span style=\"\">of</span> <span style=\"\">both</span> <span style=\"\">worlds</span> <span style=\"\">intensely</span> <span style=\"\">malty</span> <span style=\"\">and</span> <span style=\"\">hoppy</span> <span style=\"\">at</span> <span style=\"\">the</span> <span style=\"\">same</span> <span style=\"\">time</span>"
      ],
      "text/plain": [
       "<IPython.core.display.HTML object>"
      ]
     },
     "metadata": {},
     "output_type": "display_data"
    },
    {
     "name": "stdout",
     "output_type": "stream",
     "text": [
      "i:  316\n"
     ]
    },
    {
     "data": {
      "text/html": [
       "<span style=\"\">pours</span> <span style=\"\">a</span> <span style=\"background-color:hsl(226.7717, 100.0000%, 60%);\">nice</span> <span style=\"background-color:hsl(226.7717, 100.0000%, 75%);\">thick</span> <span style=\"background-color:hsl(226.7717, 100.0000%, 90%);\">creamy</span> <span style=\"\">head</span> <span style=\"\">that</span> <span style=\"\">does</span> <span style=\"\">n't</span> <span style=\"\">disappear</span> <span style=\"background-color:hsl(131.3793, 98.3051%, 90%);\">aroma</span> <span style=\"\">is</span> <span style=\"background-color:hsl(131.3793, 98.3051%, 60%);\">wonderful</span> <span style=\"background-color:hsl(131.3793, 98.3051%, 75%);\">piney</span> <span style=\"\">but</span> <span style=\"\">and</span> <span style=\"\">clean</span> <span style=\"\">clearly</span> <span style=\"\">hoppy</span> <span style=\"\">color</span> <span style=\"\">is</span> <span style=\"\">reddish</span> <span style=\"\">orange</span> <span style=\"\">with</span> <span style=\"\">a</span> <span style=\"\">nice</span> <span style=\"\">active</span> <span style=\"\">carb</span> <span style=\"\">taste</span> <span style=\"\">is</span> <span style=\"\">very</span> <span style=\"\">mild</span> <span style=\"\">and</span> <span style=\"\">well</span> <span style=\"\">balanced</span> <span style=\"\">with</span> <span style=\"\">sweet</span> <span style=\"\">malts</span> <span style=\"\">and</span> <span style=\"\">just</span> <span style=\"background-color:hsl(3.8571, 100.0000%, 75%);\">right</span> <span style=\"\">amount</span> <span style=\"\">of</span> <span style=\"\">hops</span> <span style=\"\">good</span> <span style=\"\">one</span> <span style=\"\">for</span> <span style=\"\">those</span> <span style=\"\">afraid</span> <span style=\"\">of</span> <span style=\"\">harsher</span> <span style=\"\">ipas</span> <span style=\"\">this</span> <span style=\"\">one</span> <span style=\"\">is</span> <span style=\"\">truly</span> <span style=\"background-color:hsl(3.8571, 100.0000%, 90%);\">right</span> <span style=\"\">in</span> <span style=\"\">the</span> <span style=\"\">middle</span> <span style=\"background-color:hsl(3.8571, 100.0000%, 60%);\">creamy</span> <span style=\"\">mouthfeel</span> <span style=\"\">recommended</span>"
      ],
      "text/plain": [
       "<IPython.core.display.HTML object>"
      ]
     },
     "metadata": {},
     "output_type": "display_data"
    },
    {
     "name": "stdout",
     "output_type": "stream",
     "text": [
      "i:  452\n"
     ]
    },
    {
     "data": {
      "text/html": [
       "<span style=\"\">cloudy</span> <span style=\"\">brownish</span> <span style=\"\">amber</span> <span style=\"\">glass</span> <span style=\"\">with</span> <span style=\"\">an</span> <span style=\"\">mass</span> <span style=\"\">of</span> <span style=\"\">a</span> <span style=\"background-color:hsl(226.7717, 100.0000%, 90%);\">beige</span> <span style=\"background-color:hsl(226.7717, 100.0000%, 75%);\">head</span> <span style=\"background-color:hsl(226.7717, 100.0000%, 60%);\">attractive</span> <span style=\"background-color:hsl(131.3793, 98.3051%, 90%);\">aroma</span> <span style=\"\">of</span> <span style=\"\">dark</span> <span style=\"\">malts</span> <span style=\"background-color:hsl(131.3793, 98.3051%, 84%);\">chocolate</span> <span style=\"\">and</span> <span style=\"\">the</span> <span style=\"\">standard</span> <span style=\"background-color:hsl(131.3793, 98.3051%, 66%);\">clove</span> <span style=\"\">and</span> <span style=\"background-color:hsl(131.3793, 98.3051%, 60%);\">banana</span> <span style=\"background-color:hsl(131.3793, 98.3051%, 72%);\">weiss</span> <span style=\"\">trait</span> <span style=\"\">plastic</span> <span style=\"\">aromas</span> <span style=\"\">are</span> <span style=\"\">noted</span> <span style=\"\">as</span> <span style=\"\">well</span> <span style=\"\">likely</span> <span style=\"\">a</span> <span style=\"\">result</span> <span style=\"\">of</span> <span style=\"\">this</span> <span style=\"\">bottle</span> <span style=\"\">'s</span> <span style=\"\">age</span> <span style=\"\">taste</span> <span style=\"\">is</span> <span style=\"\">akin</span> <span style=\"\">to</span> <span style=\"\">liquid</span> <span style=\"\">chocolate</span> <span style=\"\">covered</span> <span style=\"\">banana</span> <span style=\"\">slight</span> <span style=\"\">carmel</span> <span style=\"\">notes</span> <span style=\"\">and</span> <span style=\"\">pepper</span> <span style=\"\">clove</span> <span style=\"\">spice</span> <span style=\"\">round</span> <span style=\"\">this</span> <span style=\"\">one</span> <span style=\"\">out</span> <span style=\"\">plastic</span> <span style=\"\">is</span> <span style=\"\">noted</span> <span style=\"\">once</span> <span style=\"\">again</span> <span style=\"background-color:hsl(3.8571, 100.0000%, 60%);\">smooth</span> <span style=\"background-color:hsl(3.8571, 100.0000%, 90%);\">soft</span> <span style=\"\">and</span> <span style=\"background-color:hsl(3.8571, 100.0000%, 75%);\">creamy</span> <span style=\"\">in</span> <span style=\"\">mouth</span> <span style=\"\">literally</span> <span style=\"\">like</span> <span style=\"\">pureed</span> <span style=\"\">bananas</span> <span style=\"\">this</span> <span style=\"\">must</span> <span style=\"\">be</span> <span style=\"\">a</span> <span style=\"\">stunner</span> <span style=\"\">when</span> <span style=\"\">fresh</span> <span style=\"\">my</span> <span style=\"\">bottle</span> <span style=\"\">was</span> <span style=\"\">impressive</span> <span style=\"\">even</span> <span style=\"\">though</span> <span style=\"\">clearly</span> <span style=\"background-color:hsl(131.3793, 98.3051%, 78%);\">age</span>"
      ],
      "text/plain": [
       "<IPython.core.display.HTML object>"
      ]
     },
     "metadata": {},
     "output_type": "display_data"
    },
    {
     "name": "stdout",
     "output_type": "stream",
     "text": [
      "i:  483\n"
     ]
    },
    {
     "data": {
      "text/html": [
       "<span style=\"\">basically</span> <span style=\"\">this</span> <span style=\"\">is</span> <span style=\"\">an</span> <span style=\"\">average</span> <span style=\"\">beer</span> <span style=\"\">that</span> <span style=\"\">would</span> <span style=\"\">seem</span> <span style=\"\">good</span> <span style=\"\">at</span> <span style=\"\">a</span> <span style=\"\">party</span> <span style=\"\">that</span> <span style=\"\">is</span> <span style=\"\">because</span> <span style=\"\">you</span> <span style=\"\">can</span> <span style=\"\">drink</span> <span style=\"\">six</span> <span style=\"\">of</span> <span style=\"\">them</span> <span style=\"\">and</span> <span style=\"\">not</span> <span style=\"\">be</span> <span style=\"\">too</span> <span style=\"background-color:hsl(131.3793, 98.3051%, 90%);\">drunk</span> <span style=\"\">i</span> <span style=\"\">remember</span> <span style=\"\">once</span> <span style=\"\">having</span> <span style=\"\">five</span> <span style=\"\">of</span> <span style=\"\">these</span> <span style=\"\">and</span> <span style=\"\">then</span> <span style=\"\">having</span> <span style=\"\">a</span> <span style=\"\">dog</span> <span style=\"\">fish</span> <span style=\"\">head</span> <span style=\"\">90</span> <span style=\"\">minute</span> <span style=\"\">you</span> <span style=\"\">can</span> <span style=\"\">believe</span> <span style=\"\">me</span> <span style=\"\">when</span> <span style=\"\">i</span> <span style=\"\">say</span> <span style=\"\">that</span> <span style=\"\">it</span> <span style=\"\">was</span> <span style=\"\">a</span> <span style=\"\">blow</span> <span style=\"\">out</span> <span style=\"\">guess</span> <span style=\"\">which</span> <span style=\"\">beer</span> <span style=\"\">one</span> <span style=\"\">the</span> <span style=\"\">tasting</span> <span style=\"\">contest</span> <span style=\"\">it</span> <span style=\"\">is</span> <span style=\"\">pretty</span> <span style=\"\">amusing</span> <span style=\"\">if</span> <span style=\"\">you</span> <span style=\"\">think</span> <span style=\"\">about</span> <span style=\"\">it</span> <span style=\"\">this</span> <span style=\"\">is</span> <span style=\"\">fine</span> <span style=\"\">for</span> <span style=\"\">a</span> <span style=\"background-color:hsl(226.7717, 100.0000%, 60%);\">frat</span> <span style=\"background-color:hsl(3.8571, 100.0000%, 90%);\">party</span> <span style=\"\">where</span> <span style=\"\">the</span> <span style=\"background-color:hsl(3.8571, 100.0000%, 60%);\">sole</span> <span style=\"\">purpose</span> <span style=\"\">is</span> <span style=\"\">to</span> <span style=\"\">get</span> <span style=\"background-color:hsl(131.3793, 98.3051%, 60%);\">drunk</span>"
      ],
      "text/plain": [
       "<IPython.core.display.HTML object>"
      ]
     },
     "metadata": {},
     "output_type": "display_data"
    },
    {
     "name": "stdout",
     "output_type": "stream",
     "text": [
      "i:  622\n"
     ]
    },
    {
     "data": {
      "text/html": [
       "<span style=\"\">12oz</span> <span style=\"\">bottle</span> <span style=\"\">poured</span> <span style=\"\">into</span> <span style=\"\">a</span> <span style=\"\">wine</span> <span style=\"\">glass</span> <span style=\"\">enjoy</span> <span style=\"\">by</span> <span style=\"\">jan</span> <span style=\"\">09</span> <span style=\"\">2012</span> <span style=\"\">stamped</span> <span style=\"\">on</span> <span style=\"\">the</span> <span style=\"\">neck</span> <span style=\"\">appearance</span> <span style=\"\">black</span> <span style=\"\">body</span> <span style=\"\">light</span> <span style=\"\">brown</span> <span style=\"background-color:hsl(226.7717, 100.0000%, 90%);\">three</span> <span style=\"\">finger</span> <span style=\"background-color:hsl(226.7717, 100.0000%, 75%);\">pancake</span> <span style=\"background-color:hsl(226.7717, 100.0000%, 60%);\">batter</span> <span style=\"\">head</span> <span style=\"\">with</span> <span style=\"\">good</span> <span style=\"\">retention</span> <span style=\"\">and</span> <span style=\"\">decent</span> <span style=\"\">to</span> <span style=\"\">low</span> <span style=\"\">stick</span> <span style=\"\">smell</span> <span style=\"background-color:hsl(131.3793, 98.3051%, 90%);\">stale</span> <span style=\"\">coffee</span> <span style=\"\">very</span> <span style=\"\">dry</span> <span style=\"\">taste</span> <span style=\"\">mild</span> <span style=\"\">very</span> <span style=\"\">metallic</span> <span style=\"\">more</span> <span style=\"\">off</span> <span style=\"\">characters</span> <span style=\"\">than</span> <span style=\"\">good</span> <span style=\"\">ones</span> <span style=\"background-color:hsl(3.8571, 100.0000%, 90%);\">mouthfeel</span> <span style=\"background-color:hsl(3.8571, 100.0000%, 60%);\">watery</span> <span style=\"\">overall</span> <span style=\"\">drinkability</span> <span style=\"background-color:hsl(131.3793, 98.3051%, 60%);\">stale</span> <span style=\"\">not</span> <span style=\"\">enjoyable</span>"
      ],
      "text/plain": [
       "<IPython.core.display.HTML object>"
      ]
     },
     "metadata": {},
     "output_type": "display_data"
    },
    {
     "name": "stdout",
     "output_type": "stream",
     "text": [
      "i:  664\n"
     ]
    },
    {
     "data": {
      "text/html": [
       "<span style=\"\">on</span> <span style=\"\">tap</span> <span style=\"\">at</span> <span style=\"\">the</span> <span style=\"\">brewpub</span> <span style=\"\">december</span> <span style=\"\">27</span> <span style=\"\">2010</span> <span style=\"\">pours</span> <span style=\"\">a</span> <span style=\"\">dark</span> <span style=\"\">brown</span> <span style=\"\">color</span> <span style=\"\">with</span> <span style=\"\">a</span> <span style=\"background-color:hsl(226.7717, 100.0000%, 75%);\">good</span> <span style=\"background-color:hsl(226.7717, 100.0000%, 90%);\">tan</span> <span style=\"background-color:hsl(226.7717, 100.0000%, 82%);\">head</span> <span style=\"\">that</span> <span style=\"\">leaves</span> <span style=\"\">behind</span> <span style=\"\">a</span> <span style=\"\">bit</span> <span style=\"\">of</span> <span style=\"background-color:hsl(226.7717, 100.0000%, 68%);\">lacing</span> <span style=\"\">and</span> <span style=\"background-color:hsl(226.7717, 100.0000%, 60%);\">sticks</span> <span style=\"\">around</span> <span style=\"\">for</span> <span style=\"\">awhile</span> <span style=\"\">the</span> <span style=\"background-color:hsl(131.3793, 98.3051%, 78%);\">nose</span> <span style=\"\">is</span> <span style=\"\">really</span> <span style=\"background-color:hsl(131.3793, 98.3051%, 72%);\">nice</span> <span style=\"\">and</span> <span style=\"background-color:hsl(131.3793, 98.3051%, 66%);\">chocolatey</span> <span style=\"background-color:hsl(131.3793, 98.3051%, 90%);\">really</span> <span style=\"background-color:hsl(131.3793, 98.3051%, 60%);\">love</span> <span style=\"\">the</span> <span style=\"\">level</span> <span style=\"\">they</span> <span style=\"\">'ve</span> <span style=\"\">used</span> <span style=\"\">under</span> <span style=\"\">that</span> <span style=\"\">a</span> <span style=\"\">bit</span> <span style=\"\">of</span> <span style=\"\">roasted</span> <span style=\"\">malt</span> <span style=\"\">but</span> <span style=\"\">this</span> <span style=\"\">was</span> <span style=\"\">mostly</span> <span style=\"\">about</span> <span style=\"\">the</span> <span style=\"\">chocolate</span> <span style=\"\">the</span> <span style=\"background-color:hsl(131.3793, 98.3051%, 84%);\">taste</span> <span style=\"\">is</span> <span style=\"\">n't</span> <span style=\"\">quite</span> <span style=\"\">as</span> <span style=\"\">nice</span> <span style=\"\">though</span> <span style=\"\">the</span> <span style=\"\">chocolate</span> <span style=\"\">notes</span> <span style=\"\">really</span> <span style=\"\">still</span> <span style=\"\">stand</span> <span style=\"\">out</span> <span style=\"\">the</span> <span style=\"\">feel</span> <span style=\"\">was</span> <span style=\"\">quite</span> <span style=\"background-color:hsl(3.8571, 100.0000%, 70%);\">nice</span> <span style=\"\">with</span> <span style=\"\">a</span> <span style=\"background-color:hsl(3.8571, 100.0000%, 60%);\">full</span> <span style=\"background-color:hsl(3.8571, 100.0000%, 80%);\">body</span> <span style=\"\">pretty</span> <span style=\"background-color:hsl(3.8571, 100.0000%, 90%);\">viscous</span> <span style=\"\">for</span> <span style=\"\">what</span> <span style=\"\">it</span> <span style=\"\">is</span> <span style=\"\">drinks</span> <span style=\"\">quite</span> <span style=\"\">well</span> <span style=\"\">i</span> <span style=\"\">'m</span> <span style=\"\">a</span> <span style=\"\">big</span> <span style=\"\">fan</span>"
      ],
      "text/plain": [
       "<IPython.core.display.HTML object>"
      ]
     },
     "metadata": {},
     "output_type": "display_data"
    }
   ],
   "source": [
    "for i in common_idxs:\n",
    "    try:\n",
    "        html = html_for_i(i)\n",
    "        print('i: ', i)\n",
    "        display(HTML(html))\n",
    "    except AssertionError:\n",
    "        continue  # rationales weren't disjoint"
   ]
  },
  {
   "cell_type": "code",
   "execution_count": 9,
   "metadata": {},
   "outputs": [
    {
     "data": {
      "text/html": [
       "<span style=\"\">on</span> <span style=\"\">tap</span> <span style=\"\">at</span> <span style=\"\">the</span> <span style=\"\">brewpub</span> <span style=\"\">december</span> <span style=\"\">27</span> <span style=\"\">2010</span> <span style=\"\">pours</span> <span style=\"\">a</span> <span style=\"\">dark</span> <span style=\"\">brown</span> <span style=\"\">color</span> <span style=\"\">with</span> <span style=\"\">a</span> <span style=\"background-color:hsl(226.7717, 100.0000%, 75%);\">good</span> <span style=\"background-color:hsl(226.7717, 100.0000%, 90%);\">tan</span> <span style=\"background-color:hsl(226.7717, 100.0000%, 82%);\">head</span> <span style=\"\">that</span> <span style=\"\">leaves</span> <span style=\"\">behind</span> <span style=\"\">a</span> <span style=\"\">bit</span> <span style=\"\">of</span> <span style=\"background-color:hsl(226.7717, 100.0000%, 68%);\">lacing</span> <span style=\"\">and</span> <span style=\"background-color:hsl(226.7717, 100.0000%, 60%);\">sticks</span> <span style=\"\">around</span> <span style=\"\">for</span> <span style=\"\">awhile</span> <span style=\"\">the</span> <span style=\"background-color:hsl(131.3793, 98.3051%, 78%);\">nose</span> <span style=\"\">is</span> <span style=\"\">really</span> <span style=\"background-color:hsl(131.3793, 98.3051%, 72%);\">nice</span> <span style=\"\">and</span> <span style=\"background-color:hsl(131.3793, 98.3051%, 66%);\">chocolatey</span> <span style=\"background-color:hsl(131.3793, 98.3051%, 90%);\">really</span> <span style=\"background-color:hsl(131.3793, 98.3051%, 60%);\">love</span> <span style=\"\">the</span> <span style=\"\">level</span> <span style=\"\">they</span> <span style=\"\">'ve</span> <span style=\"\">used</span> <span style=\"\">under</span> <span style=\"\">that</span> <span style=\"\">a</span> <span style=\"\">bit</span> <span style=\"\">of</span> <span style=\"\">roasted</span> <span style=\"\">malt</span> <span style=\"\">but</span> <span style=\"\">this</span> <span style=\"\">was</span> <span style=\"\">mostly</span> <span style=\"\">about</span> <span style=\"\">the</span> <span style=\"\">chocolate</span> <span style=\"\">the</span> <span style=\"background-color:hsl(131.3793, 98.3051%, 84%);\">taste</span> <span style=\"\">is</span> <span style=\"\">n't</span> <span style=\"\">quite</span> <span style=\"\">as</span> <span style=\"\">nice</span> <span style=\"\">though</span> <span style=\"\">the</span> <span style=\"\">chocolate</span> <span style=\"\">notes</span> <span style=\"\">really</span> <span style=\"\">still</span> <span style=\"\">stand</span> <span style=\"\">out</span> <span style=\"\">the</span> <span style=\"\">feel</span> <span style=\"\">was</span> <span style=\"\">quite</span> <span style=\"background-color:hsl(3.8571, 100.0000%, 70%);\">nice</span> <span style=\"\">with</span> <span style=\"\">a</span> <span style=\"background-color:hsl(3.8571, 100.0000%, 60%);\">full</span> <span style=\"background-color:hsl(3.8571, 100.0000%, 80%);\">body</span> <span style=\"\">pretty</span> <span style=\"background-color:hsl(3.8571, 100.0000%, 90%);\">viscous</span> <span style=\"\">for</span> <span style=\"\">what</span> <span style=\"\">it</span> <span style=\"\">is</span> <span style=\"\">drinks</span> <span style=\"\">quite</span> <span style=\"\">well</span> <span style=\"\">i</span> <span style=\"\">'m</span> <span style=\"\">a</span> <span style=\"\">big</span> <span style=\"\">fan</span><p><ul style=\"list-style:none;\"><li style=\"float:left; margin-right:10px;\">\n",
       "        <span style=\"border:none;float:left;width:25px;height:16px;margin:3px;\n",
       "        background-color:rgb(76.0000, 114.0000, 176.0000)\"></span> Appearance</li>\n",
       "        <li style=\"float:left; margin-right:10px;\">\n",
       "        <span style=\"border:none;float:left;width:25px;height:16px;margin:3px;\n",
       "        background-color:rgb(85.0000, 168.0000, 104.0000)\"></span> Aroma</li>\n",
       "        <li style=\"float:left; margin-right:10px;\">\n",
       "        <span style=\"border:none;float:left;width:25px;height:16px;margin:3px;\n",
       "        background-color:rgb(196.0000, 78.0000, 82.0000)\"></span> Palate</li>\n",
       "        </ul></p>"
      ],
      "text/plain": [
       "<IPython.core.display.HTML object>"
      ]
     },
     "metadata": {},
     "output_type": "display_data"
    }
   ],
   "source": [
    "legend_html = visualizations.make_legend(3, labels=['Appearance', 'Aroma', 'Palate'])\n",
    "\n",
    "html = html_for_i(664)\n",
    "display(HTML(html+legend_html))"
   ]
  }
 ],
 "metadata": {
  "kernelspec": {
   "display_name": "Python 3",
   "language": "python",
   "name": "python3"
  },
  "language_info": {
   "codemirror_mode": {
    "name": "ipython",
    "version": 3
   },
   "file_extension": ".py",
   "mimetype": "text/x-python",
   "name": "python",
   "nbconvert_exporter": "python",
   "pygments_lexer": "ipython3",
   "version": "3.6.6"
  }
 },
 "nbformat": 4,
 "nbformat_minor": 2
}
