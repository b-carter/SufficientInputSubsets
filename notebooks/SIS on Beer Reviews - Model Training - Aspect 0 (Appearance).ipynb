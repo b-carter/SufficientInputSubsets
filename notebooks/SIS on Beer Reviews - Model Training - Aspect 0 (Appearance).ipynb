{
 "cells": [
  {
   "cell_type": "markdown",
   "metadata": {},
   "source": [
    "## SIS on Beer Reviews - Model Training Aspect 0 (Appearance)"
   ]
  },
  {
   "cell_type": "code",
   "execution_count": 2,
   "metadata": {},
   "outputs": [],
   "source": [
    "import numpy as np\n",
    "from matplotlib import pyplot as plt\n",
    "import seaborn as sns\n",
    "import os\n",
    "import sys\n",
    "import gzip\n",
    "sys.path.insert(0, os.path.abspath('..'))\n",
    "\n",
    "from keras.callbacks import ModelCheckpoint\n",
    "from keras.models import load_model, Model, Sequential\n",
    "from keras.layers import Input, Dense, Flatten, LSTM\n",
    "from keras.layers.embeddings import Embedding\n",
    "from keras.optimizers import Adam\n",
    "from keras.preprocessing import sequence, text\n",
    "from keras import backend as K\n",
    "from sklearn.model_selection import train_test_split"
   ]
  },
  {
   "cell_type": "code",
   "execution_count": 3,
   "metadata": {},
   "outputs": [],
   "source": [
    "import os\n",
    "import tensorflow as tf\n",
    "\n",
    "os.environ['CUDA_DEVICE_ORDER'] = 'PCI_BUS_ID'\n",
    "os.environ['CUDA_VISIBLE_DEVICES'] = '1'\n",
    "\n",
    "config = tf.ConfigProto()\n",
    "config.gpu_options.allow_growth = True\n",
    "config.allow_soft_placement = True\n",
    "\n",
    "sess = tf.Session(config=config)\n",
    "\n",
    "K.set_session(sess)"
   ]
  },
  {
   "cell_type": "code",
   "execution_count": 4,
   "metadata": {},
   "outputs": [],
   "source": [
    "def load_reviews(path, verbose=True):\n",
    "    data_x, data_y = [ ], [ ]\n",
    "    fopen = gzip.open if path.endswith(\".gz\") else open\n",
    "    with fopen(path) as fin:\n",
    "        for line in fin:\n",
    "            line = line.decode('ascii')\n",
    "            y, sep, x = line.partition(\"\\t\")\n",
    "            # x = x.split()\n",
    "            y = y.split()\n",
    "            if len(x) == 0: continue\n",
    "            y = np.asarray([ float(v) for v in y ])\n",
    "            data_x.append(x)\n",
    "            data_y.append(y)\n",
    "\n",
    "    if verbose:\n",
    "        print(\"{} examples loaded from {}\".format(len(data_x), path))\n",
    "        print(\"max text length: {}\".format(max(len(x) for x in data_x)))\n",
    "\n",
    "    return data_x, data_y"
   ]
  },
  {
   "cell_type": "code",
   "execution_count": 10,
   "metadata": {},
   "outputs": [
    {
     "name": "stdout",
     "output_type": "stream",
     "text": [
      "80000 examples loaded from ../data/beer_reviews/reviews.aspect0.train.txt.gz\n",
      "max text length: 5113\n",
      "10000 examples loaded from ../data/beer_reviews/reviews.aspect0.heldout.txt.gz\n",
      "max text length: 4999\n"
     ]
    }
   ],
   "source": [
    "# Load beer review data for a particular aspect\n",
    "\n",
    "ASPECT = 0  # 0, 1, 2, or 3\n",
    "\n",
    "BASE_PATH = '../data/beer_reviews'\n",
    "\n",
    "path = os.path.join(BASE_PATH, 'reviews.aspect' + str(ASPECT))\n",
    "train_path = path + '.train.txt.gz'\n",
    "heldout_path = path + '.heldout.txt.gz'\n",
    "\n",
    "X_train_texts, y_train = load_reviews(train_path)\n",
    "X_test_texts, y_test = load_reviews(heldout_path)\n",
    "\n",
    "# y value is just the sentiment for this aspect, throw away the other scores\n",
    "y_train = np.array([y[ASPECT] for y in y_train])\n",
    "y_test = np.array([y[ASPECT] for y in y_test])\n",
    "\n",
    "# Create a 3k validation set held-out from the test set\n",
    "X_test_texts, X_val_texts, y_test, y_val = train_test_split(\n",
    "                                                X_test_texts,\n",
    "                                                y_test,\n",
    "                                                test_size=3000,\n",
    "                                                random_state=42)"
   ]
  },
  {
   "cell_type": "code",
   "execution_count": 6,
   "metadata": {},
   "outputs": [
    {
     "data": {
      "image/png": "[encoded data removed]",
      "text/plain": [
       "<Figure size 432x288 with 1 Axes>"
      ]
     },
     "metadata": {},
     "output_type": "display_data"
    },
    {
     "name": "stdout",
     "output_type": "stream",
     "text": [
      "Mean: 0.697\n",
      "Median: 0.700\n",
      "Stdev: 0.252\n",
      "Review length:\n",
      "Mean 152.06 words (stddev: 82.575202)\n"
     ]
    },
    {
     "data": {
      "image/png": "[encoded data removed]",
      "text/plain": [
       "<Figure size 432x288 with 1 Axes>"
      ]
     },
     "metadata": {},
     "output_type": "display_data"
    }
   ],
   "source": [
    "plt.hist(y_train)\n",
    "plt.show()\n",
    "\n",
    "print('Mean: %.3f' % np.mean(y_train))\n",
    "print('Median: %.3f' % np.median(y_train))\n",
    "print('Stdev: %.3f' % np.std(y_train))\n",
    "\n",
    "print('Review length:')\n",
    "train_texts_lengths = [len(x.split(' ')) for x in X_train_texts]\n",
    "print(\"Mean %.2f words (stddev: %f)\" % \\\n",
    "      (np.mean(train_texts_lengths),\n",
    "       np.std(train_texts_lengths)))\n",
    "\n",
    "# plot review lengths\n",
    "plt.boxplot(train_texts_lengths)\n",
    "plt.show()"
   ]
  },
  {
   "cell_type": "code",
   "execution_count": 7,
   "metadata": {},
   "outputs": [
    {
     "name": "stdout",
     "output_type": "stream",
     "text": [
      "80000\n",
      "3000\n",
      "7000\n"
     ]
    }
   ],
   "source": [
    "# Tokenize the texts and keep only the top n words\n",
    "\n",
    "TOP_WORDS = 10000\n",
    "\n",
    "tokenizer = text.Tokenizer(num_words=TOP_WORDS)\n",
    "\n",
    "tokenizer.fit_on_texts(X_train_texts)\n",
    "\n",
    "X_train = tokenizer.texts_to_sequences(X_train_texts)\n",
    "X_val = tokenizer.texts_to_sequences(X_val_texts)\n",
    "X_test = tokenizer.texts_to_sequences(X_test_texts)\n",
    "\n",
    "print(len(X_train))\n",
    "print(len(X_val))\n",
    "print(len(X_test))"
   ]
  },
  {
   "cell_type": "code",
   "execution_count": 8,
   "metadata": {},
   "outputs": [],
   "source": [
    "# Bound reviews at 500 words, truncating longer reviews and zero-padding shorter reviews\n",
    "\n",
    "MAX_WORDS = 500\n",
    "\n",
    "X_train = sequence.pad_sequences(X_train, maxlen=MAX_WORDS)\n",
    "X_val = sequence.pad_sequences(X_val, maxlen=MAX_WORDS)\n",
    "X_test = sequence.pad_sequences(X_test, maxlen=MAX_WORDS)"
   ]
  },
  {
   "cell_type": "code",
   "execution_count": 9,
   "metadata": {},
   "outputs": [],
   "source": [
    "index_to_token = {tokenizer.word_index[k]: k for k in tokenizer.word_index.keys()}"
   ]
  },
  {
   "cell_type": "markdown",
   "metadata": {},
   "source": [
    "## LSTM Model"
   ]
  },
  {
   "cell_type": "code",
   "execution_count": 9,
   "metadata": {},
   "outputs": [],
   "source": [
    "def coeff_determination_metric(y_true, y_pred):\n",
    "    SS_res =  K.sum(K.square( y_true-y_pred ))\n",
    "    SS_tot = K.sum(K.square( y_true - K.mean(y_true) ) )\n",
    "    return ( 1 - SS_res/(SS_tot + K.epsilon()) )"
   ]
  },
  {
   "cell_type": "code",
   "execution_count": 10,
   "metadata": {
    "scrolled": false
   },
   "outputs": [
    {
     "name": "stdout",
     "output_type": "stream",
     "text": [
      "_________________________________________________________________\n",
      "Layer (type)                 Output Shape              Param #   \n",
      "=================================================================\n",
      "embedding_1 (Embedding)      (None, 500, 100)          1000000   \n",
      "_________________________________________________________________\n",
      "lstm_1 (LSTM)                (None, 500, 200)          240800    \n",
      "_________________________________________________________________\n",
      "lstm_2 (LSTM)                (None, 200)               320800    \n",
      "_________________________________________________________________\n",
      "dense_1 (Dense)              (None, 1)                 201       \n",
      "=================================================================\n",
      "Total params: 1,561,801\n",
      "Trainable params: 1,561,801\n",
      "Non-trainable params: 0\n",
      "_________________________________________________________________\n",
      "None\n",
      "Train on 80000 samples, validate on 3000 samples\n",
      "Epoch 1/15\n",
      "79872/80000 [============================>.] - ETA: 1s - loss: 0.0578 - mean_squared_error: 0.0578 - mean_absolute_error: 0.2138 - coeff_determination_metric: 0.0828\n",
      "Epoch 00001: val_loss improved from inf to 0.05262, saving model to ../trained_models/asp0.regress.bs128.nodrop.lstm200.100dimembed.weights.01-0.0526.hdf5\n",
      "80000/80000 [==============================] - 994s 12ms/step - loss: 0.0578 - mean_squared_error: 0.0578 - mean_absolute_error: 0.2138 - coeff_determination_metric: 0.0826 - val_loss: 0.0526 - val_mean_squared_error: 0.0526 - val_mean_absolute_error: 0.2057 - val_coeff_determination_metric: 0.1508\n",
      "Epoch 2/15\n",
      "79872/80000 [============================>.] - ETA: 1s - loss: 0.0500 - mean_squared_error: 0.0500 - mean_absolute_error: 0.1942 - coeff_determination_metric: 0.2046\n",
      "Epoch 00002: val_loss improved from 0.05262 to 0.04014, saving model to ../trained_models/asp0.regress.bs128.nodrop.lstm200.100dimembed.weights.02-0.0401.hdf5\n",
      "80000/80000 [==============================] - 955s 12ms/step - loss: 0.0500 - mean_squared_error: 0.0500 - mean_absolute_error: 0.1941 - coeff_determination_metric: 0.2050 - val_loss: 0.0401 - val_mean_squared_error: 0.0401 - val_mean_absolute_error: 0.1654 - val_coeff_determination_metric: 0.3517\n",
      "Epoch 3/15\n",
      "79872/80000 [============================>.] - ETA: 1s - loss: 0.0404 - mean_squared_error: 0.0404 - mean_absolute_error: 0.1635 - coeff_determination_metric: 0.3581\n",
      "Epoch 00003: val_loss improved from 0.04014 to 0.03351, saving model to ../trained_models/asp0.regress.bs128.nodrop.lstm200.100dimembed.weights.03-0.0335.hdf5\n",
      "80000/80000 [==============================] - 952s 12ms/step - loss: 0.0404 - mean_squared_error: 0.0404 - mean_absolute_error: 0.1634 - coeff_determination_metric: 0.3583 - val_loss: 0.0335 - val_mean_squared_error: 0.0335 - val_mean_absolute_error: 0.1370 - val_coeff_determination_metric: 0.4572\n",
      "Epoch 4/15\n",
      "79872/80000 [============================>.] - ETA: 1s - loss: 0.0284 - mean_squared_error: 0.0284 - mean_absolute_error: 0.1297 - coeff_determination_metric: 0.5477\n",
      "Epoch 00004: val_loss improved from 0.03351 to 0.02675, saving model to ../trained_models/asp0.regress.bs128.nodrop.lstm200.100dimembed.weights.04-0.0267.hdf5\n",
      "80000/80000 [==============================] - 952s 12ms/step - loss: 0.0284 - mean_squared_error: 0.0284 - mean_absolute_error: 0.1297 - coeff_determination_metric: 0.5477 - val_loss: 0.0267 - val_mean_squared_error: 0.0267 - val_mean_absolute_error: 0.1254 - val_coeff_determination_metric: 0.5680\n",
      "Epoch 5/15\n",
      "79872/80000 [============================>.] - ETA: 1s - loss: 0.0269 - mean_squared_error: 0.0269 - mean_absolute_error: 0.1255 - coeff_determination_metric: 0.5722\n",
      "Epoch 00005: val_loss improved from 0.02675 to 0.02575, saving model to ../trained_models/asp0.regress.bs128.nodrop.lstm200.100dimembed.weights.05-0.0258.hdf5\n",
      "80000/80000 [==============================] - 952s 12ms/step - loss: 0.0269 - mean_squared_error: 0.0269 - mean_absolute_error: 0.1255 - coeff_determination_metric: 0.5722 - val_loss: 0.0258 - val_mean_squared_error: 0.0258 - val_mean_absolute_error: 0.1225 - val_coeff_determination_metric: 0.5835\n",
      "Epoch 6/15\n",
      "79872/80000 [============================>.] - ETA: 1s - loss: 0.0229 - mean_squared_error: 0.0229 - mean_absolute_error: 0.1131 - coeff_determination_metric: 0.6348\n",
      "Epoch 00006: val_loss improved from 0.02575 to 0.02494, saving model to ../trained_models/asp0.regress.bs128.nodrop.lstm200.100dimembed.weights.06-0.0249.hdf5\n",
      "80000/80000 [==============================] - 952s 12ms/step - loss: 0.0229 - mean_squared_error: 0.0229 - mean_absolute_error: 0.1131 - coeff_determination_metric: 0.6348 - val_loss: 0.0249 - val_mean_squared_error: 0.0249 - val_mean_absolute_error: 0.1185 - val_coeff_determination_metric: 0.5968\n",
      "Epoch 7/15\n",
      "79872/80000 [============================>.] - ETA: 1s - loss: 0.0207 - mean_squared_error: 0.0207 - mean_absolute_error: 0.1059 - coeff_determination_metric: 0.6692\n",
      "Epoch 00007: val_loss improved from 0.02494 to 0.02480, saving model to ../trained_models/asp0.regress.bs128.nodrop.lstm200.100dimembed.weights.07-0.0248.hdf5\n",
      "80000/80000 [==============================] - 951s 12ms/step - loss: 0.0207 - mean_squared_error: 0.0207 - mean_absolute_error: 0.1059 - coeff_determination_metric: 0.6692 - val_loss: 0.0248 - val_mean_squared_error: 0.0248 - val_mean_absolute_error: 0.1193 - val_coeff_determination_metric: 0.5991\n",
      "Epoch 8/15\n",
      "79872/80000 [============================>.] - ETA: 1s - loss: 0.0187 - mean_squared_error: 0.0187 - mean_absolute_error: 0.0992 - coeff_determination_metric: 0.7010\n",
      "Epoch 00008: val_loss improved from 0.02480 to 0.02430, saving model to ../trained_models/asp0.regress.bs128.nodrop.lstm200.100dimembed.weights.08-0.0243.hdf5\n",
      "80000/80000 [==============================] - 953s 12ms/step - loss: 0.0187 - mean_squared_error: 0.0187 - mean_absolute_error: 0.0992 - coeff_determination_metric: 0.7008 - val_loss: 0.0243 - val_mean_squared_error: 0.0243 - val_mean_absolute_error: 0.1139 - val_coeff_determination_metric: 0.6074\n",
      "Epoch 9/15\n",
      "79872/80000 [============================>.] - ETA: 1s - loss: 0.0169 - mean_squared_error: 0.0169 - mean_absolute_error: 0.0927 - coeff_determination_metric: 0.7304\n",
      "Epoch 00009: val_loss did not improve\n",
      "80000/80000 [==============================] - 951s 12ms/step - loss: 0.0169 - mean_squared_error: 0.0169 - mean_absolute_error: 0.0927 - coeff_determination_metric: 0.7304 - val_loss: 0.0247 - val_mean_squared_error: 0.0247 - val_mean_absolute_error: 0.1117 - val_coeff_determination_metric: 0.5993\n",
      "Epoch 10/15\n",
      "79872/80000 [============================>.] - ETA: 1s - loss: 0.0154 - mean_squared_error: 0.0154 - mean_absolute_error: 0.0875 - coeff_determination_metric: 0.7551\n",
      "Epoch 00010: val_loss did not improve\n",
      "80000/80000 [==============================] - 956s 12ms/step - loss: 0.0154 - mean_squared_error: 0.0154 - mean_absolute_error: 0.0875 - coeff_determination_metric: 0.7551 - val_loss: 0.0250 - val_mean_squared_error: 0.0250 - val_mean_absolute_error: 0.1103 - val_coeff_determination_metric: 0.5952\n",
      "Epoch 11/15\n",
      "79872/80000 [============================>.] - ETA: 1s - loss: 0.0139 - mean_squared_error: 0.0139 - mean_absolute_error: 0.0823 - coeff_determination_metric: 0.7782\n",
      "Epoch 00011: val_loss did not improve\n",
      "80000/80000 [==============================] - 952s 12ms/step - loss: 0.0139 - mean_squared_error: 0.0139 - mean_absolute_error: 0.0823 - coeff_determination_metric: 0.7782 - val_loss: 0.0253 - val_mean_squared_error: 0.0253 - val_mean_absolute_error: 0.1101 - val_coeff_determination_metric: 0.5902\n",
      "Epoch 12/15\n",
      "79872/80000 [============================>.] - ETA: 1s - loss: 0.0126 - mean_squared_error: 0.0126 - mean_absolute_error: 0.0776 - coeff_determination_metric: 0.7993\n",
      "Epoch 00012: val_loss did not improve\n",
      "80000/80000 [==============================] - 952s 12ms/step - loss: 0.0126 - mean_squared_error: 0.0126 - mean_absolute_error: 0.0776 - coeff_determination_metric: 0.7993 - val_loss: 0.0258 - val_mean_squared_error: 0.0258 - val_mean_absolute_error: 0.1106 - val_coeff_determination_metric: 0.5829\n",
      "Epoch 13/15\n",
      "79872/80000 [============================>.] - ETA: 1s - loss: 0.0115 - mean_squared_error: 0.0115 - mean_absolute_error: 0.0736 - coeff_determination_metric: 0.8166\n",
      "Epoch 00013: val_loss did not improve\n",
      "80000/80000 [==============================] - 970s 12ms/step - loss: 0.0115 - mean_squared_error: 0.0115 - mean_absolute_error: 0.0737 - coeff_determination_metric: 0.8166 - val_loss: 0.0265 - val_mean_squared_error: 0.0265 - val_mean_absolute_error: 0.1108 - val_coeff_determination_metric: 0.5716\n",
      "Epoch 14/15\n",
      "79872/80000 [============================>.] - ETA: 1s - loss: 0.0106 - mean_squared_error: 0.0106 - mean_absolute_error: 0.0702 - coeff_determination_metric: 0.8312\n",
      "Epoch 00014: val_loss did not improve\n",
      "80000/80000 [==============================] - 956s 12ms/step - loss: 0.0106 - mean_squared_error: 0.0106 - mean_absolute_error: 0.0702 - coeff_determination_metric: 0.8312 - val_loss: 0.0271 - val_mean_squared_error: 0.0271 - val_mean_absolute_error: 0.1106 - val_coeff_determination_metric: 0.5607\n",
      "Epoch 15/15\n",
      "79872/80000 [============================>.] - ETA: 1s - loss: 0.0098 - mean_squared_error: 0.0098 - mean_absolute_error: 0.0674 - coeff_determination_metric: 0.8441\n",
      "Epoch 00015: val_loss did not improve\n",
      "80000/80000 [==============================] - 965s 12ms/step - loss: 0.0098 - mean_squared_error: 0.0098 - mean_absolute_error: 0.0674 - coeff_determination_metric: 0.8441 - val_loss: 0.0274 - val_mean_squared_error: 0.0274 - val_mean_absolute_error: 0.1109 - val_coeff_determination_metric: 0.5554\n"
     ]
    },
    {
     "data": {
      "text/plain": [
       "<keras.callbacks.History at 0x7fcfd820ee48>"
      ]
     },
     "execution_count": 10,
     "metadata": {},
     "output_type": "execute_result"
    }
   ],
   "source": [
    "# LSTM200 model\n",
    "\n",
    "def make_lstm_model(top_words, max_words):\n",
    "    model = Sequential()\n",
    "    model.add(Embedding(top_words, 100, input_length=max_words))\n",
    "    model.add(LSTM(200, return_sequences=True))\n",
    "    model.add(LSTM(200))\n",
    "    model.add(Dense(1, activation='sigmoid'))\n",
    "    model.compile(loss='mse',\n",
    "                  optimizer=Adam(),\n",
    "                  metrics=['mse', 'mae', coeff_determination_metric])\n",
    "    return model\n",
    "\n",
    "model = make_lstm_model(TOP_WORDS, MAX_WORDS)\n",
    "print(model.summary())\n",
    "\n",
    "checkpointer = ModelCheckpoint(filepath='../trained_models/asp0.regress.bs128.nodrop.lstm200.100dimembed.weights.{epoch:02d}-{val_loss:.4f}.hdf5',\n",
    "                               verbose=1,\n",
    "                               monitor='val_loss',\n",
    "                               save_best_only=True)\n",
    "\n",
    "model.fit(X_train, y_train,\n",
    "          validation_data=(X_val, y_val),\n",
    "          epochs=15,\n",
    "          batch_size=128,\n",
    "          callbacks=[checkpointer],\n",
    "          verbose=1)"
   ]
  }
 ],
 "metadata": {
  "kernelspec": {
   "display_name": "Python 3",
   "language": "python",
   "name": "python3"
  },
  "language_info": {
   "codemirror_mode": {
    "name": "ipython",
    "version": 3
   },
   "file_extension": ".py",
   "mimetype": "text/x-python",
   "name": "python",
   "nbconvert_exporter": "python",
   "pygments_lexer": "ipython3",
   "version": "3.6.6"
  }
 },
 "nbformat": 4,
 "nbformat_minor": 2
}
