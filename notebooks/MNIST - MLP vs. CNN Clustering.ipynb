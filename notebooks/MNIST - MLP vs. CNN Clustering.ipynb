{
 "cells": [
  {
   "cell_type": "code",
   "execution_count": 1,
   "metadata": {},
   "outputs": [],
   "source": [
    "%load_ext autoreload\n",
    "%autoreload 2"
   ]
  },
  {
   "cell_type": "code",
   "execution_count": 13,
   "metadata": {},
   "outputs": [
    {
     "name": "stderr",
     "output_type": "stream",
     "text": [
      "Using TensorFlow backend.\n"
     ]
    }
   ],
   "source": [
    "import numpy as np\n",
    "from matplotlib import pyplot as plt\n",
    "import pandas as pd\n",
    "import seaborn as sns\n",
    "sns.set(style='whitegrid')\n",
    "import os\n",
    "import sys\n",
    "sys.path.insert(0, os.path.abspath('../'))\n",
    "\n",
    "import tensorflow as tf\n",
    "import sis\n",
    "import clustering\n",
    "from rationale_objects import Image, SIS_RATIONALE_KEY"
   ]
  },
  {
   "cell_type": "code",
   "execution_count": 14,
   "metadata": {},
   "outputs": [],
   "source": [
    "sis.tf_config(cuda_visible_devices='2')"
   ]
  },
  {
   "cell_type": "code",
   "execution_count": 17,
   "metadata": {},
   "outputs": [],
   "source": [
    "MNIST_BASEDIR = '../../sis_data/mnist'\n",
    "DATA_DIR = os.path.join(MNIST_BASEDIR, 'data')\n",
    "CNN_RATIONALES_BASEDIR = os.path.join(MNIST_BASEDIR, 'rationales')\n",
    "MLP_RATIONALES_BASEDIR = os.path.join(MNIST_BASEDIR, 'mlp_rationales')\n",
    "figures_dir = '../figures/mnist'"
   ]
  },
  {
   "cell_type": "markdown",
   "metadata": {},
   "source": [
    "## Load data"
   ]
  },
  {
   "cell_type": "code",
   "execution_count": 19,
   "metadata": {},
   "outputs": [],
   "source": [
    "digit = 4\n",
    "\n",
    "cnn_images = clustering.mnist_load_images_from_dir(os.path.join(CNN_RATIONALES_BASEDIR, str(digit)))\n",
    "mlp_images = clustering.mnist_load_images_from_dir(os.path.join(MLP_RATIONALES_BASEDIR, str(digit)))"
   ]
  },
  {
   "cell_type": "markdown",
   "metadata": {},
   "source": [
    "## Clustering"
   ]
  },
  {
   "cell_type": "code",
   "execution_count": 20,
   "metadata": {},
   "outputs": [
    {
     "name": "stdout",
     "output_type": "stream",
     "text": [
      "# CNN SIS:  4031\n",
      "# MLP SIS:  2062\n"
     ]
    }
   ],
   "source": [
    "cnn_sis, cnn_sis_images = clustering.mnist_get_all_sis_and_images(cnn_images, rationale_key='greedy')\n",
    "mlp_sis, mlp_sis_images = clustering.mnist_get_all_sis_and_images(mlp_images)\n",
    "\n",
    "print('# CNN SIS: ', len(cnn_sis))\n",
    "print('# MLP SIS: ', len(mlp_sis))"
   ]
  },
  {
   "cell_type": "code",
   "execution_count": 21,
   "metadata": {},
   "outputs": [
    {
     "name": "stdout",
     "output_type": "stream",
     "text": [
      "Total # rationales:  6093\n"
     ]
    }
   ],
   "source": [
    "all_sis = cnn_sis + mlp_sis\n",
    "all_sis_images = np.concatenate((cnn_sis_images, mlp_sis_images))\n",
    "print('Total # rationales: ', len(all_sis))"
   ]
  },
  {
   "cell_type": "code",
   "execution_count": 22,
   "metadata": {},
   "outputs": [],
   "source": [
    "all_sis_energy_dist_file = os.path.join(MNIST_BASEDIR, 'energy_dists', 'all_sis_cnn_and_mlp.npz')"
   ]
  },
  {
   "cell_type": "code",
   "execution_count": 10,
   "metadata": {},
   "outputs": [
    {
     "name": "stdout",
     "output_type": "stream",
     "text": [
      "CPU times: user 39min 49s, sys: 7.11 s, total: 39min 56s\n",
      "Wall time: 39min 56s\n"
     ]
    }
   ],
   "source": [
    "%%time\n",
    "# Build energy distance matrix and write to file\n",
    "energy_dist_matrix = clustering.compute_energy_dists(all_sis)\n",
    "clustering.save_matrix(energy_dist_matrix, all_sis_energy_dist_file)"
   ]
  },
  {
   "cell_type": "code",
   "execution_count": 23,
   "metadata": {},
   "outputs": [],
   "source": [
    "energy_dist_matrix = clustering.load_matrix(all_sis_energy_dist_file)"
   ]
  },
  {
   "cell_type": "code",
   "execution_count": 24,
   "metadata": {},
   "outputs": [
    {
     "name": "stdout",
     "output_type": "stream",
     "text": [
      "Median:  1.4008780044171303\n",
      "Mean:  1.467678929916077\n",
      "Max:  4.505199432330865\n",
      "Stdev:  0.4883787448177883\n"
     ]
    }
   ],
   "source": [
    "# Energy distance statistics\n",
    "print('Median: ', np.median(energy_dist_matrix))\n",
    "print('Mean: ', np.mean(energy_dist_matrix))\n",
    "print('Max: ', np.max(energy_dist_matrix))\n",
    "print('Stdev: ', np.std(energy_dist_matrix))"
   ]
  },
  {
   "cell_type": "code",
   "execution_count": 25,
   "metadata": {},
   "outputs": [
    {
     "name": "stdout",
     "output_type": "stream",
     "text": [
      "Estimated number of clusters: 9\n",
      "# core samples:  1131\n"
     ]
    }
   ],
   "source": [
    "cluster_to_core_idxs, cluster_to_noncore_idxs, labels = clustering.cluster(\n",
    "    energy_dist_matrix,\n",
    "    eps=0.45,\n",
    "    min_samples=15,\n",
    ")\n",
    "\n",
    "cluster_label_to_cluster = clustering.get_label_to_cluster(labels)"
   ]
  },
  {
   "cell_type": "code",
   "execution_count": 29,
   "metadata": {},
   "outputs": [
    {
     "name": "stdout",
     "output_type": "stream",
     "text": [
      "Cluster -1:  87.4% CNN  /  12.6% MLP\n",
      "Cluster 0:  100.0% CNN  /  0.0% MLP\n",
      "Cluster 1:  100.0% CNN  /  0.0% MLP\n",
      "Cluster 2:  4.7% CNN  /  95.3% MLP\n",
      "Cluster 3:  100.0% CNN  /  0.0% MLP\n",
      "Cluster 4:  100.0% CNN  /  0.0% MLP\n",
      "Cluster 5:  100.0% CNN  /  0.0% MLP\n",
      "Cluster 6:  100.0% CNN  /  0.0% MLP\n",
      "Cluster 7:  100.0% CNN  /  0.0% MLP\n",
      "Cluster 8:  0.0% CNN  /  100.0% MLP\n"
     ]
    }
   ],
   "source": [
    "count_cnn_idxs = lambda idxs: sum((1 for i in idxs if i < len(cnn_sis)))\n",
    "\n",
    "cluster_to_name_str = {}\n",
    "\n",
    "for cluster_num, cluster in sorted(cluster_label_to_cluster.items()):\n",
    "    num_cnn_idxs = count_cnn_idxs(cluster)\n",
    "    num_mlp_idxs = len(cluster) - num_cnn_idxs\n",
    "    perc_cnn = float(num_cnn_idxs) / len(cluster) * 100.0\n",
    "    perc_mlp = float(num_mlp_idxs) / len(cluster) * 100.0\n",
    "    if cluster_num == -1:\n",
    "        cluster_num_to_print = cluster_num\n",
    "    else:\n",
    "        cluster_num_to_print = cluster_num + 1\n",
    "    cluster_to_name_str[cluster_num] = '$C_{%d}$ (CNN: %d%%)' % (cluster_num_to_print, np.around(perc_cnn))\n",
    "    print('Cluster %s:  %.1f%% CNN  /  %.1f%% MLP' % (str(cluster_num), perc_cnn, perc_mlp))"
   ]
  },
  {
   "cell_type": "code",
   "execution_count": 30,
   "metadata": {},
   "outputs": [
    {
     "data": {
      "image/png": "[encoded data removed]",
      "text/plain": [
       "<Figure size 468x432 with 100 Axes>"
      ]
     },
     "metadata": {},
     "output_type": "display_data"
    }
   ],
   "source": [
    "# Class 4 SIS Clustering (both models)\n",
    "\n",
    "clustering.visualize_mnist_clustering(\n",
    "    cluster_to_core_idxs,\n",
    "    cluster_to_noncore_idxs,\n",
    "    all_sis_images,\n",
    "    num_examples=10,\n",
    "    savepath=os.path.join(figures_dir, 'joint_clustering_cnn_mlp_digit4.png'),\n",
    "    title='',\n",
    "    cluster_to_name_str=cluster_to_name_str,\n",
    ")"
   ]
  },
  {
   "cell_type": "markdown",
   "metadata": {},
   "source": [
    "## MLP SIS Only"
   ]
  },
  {
   "cell_type": "code",
   "execution_count": 95,
   "metadata": {},
   "outputs": [],
   "source": [
    "mlp_only_energy_dist_file = os.path.join(MNIST_BASEDIR, 'energy_dists', 'mlp_sis_only.npz')"
   ]
  },
  {
   "cell_type": "code",
   "execution_count": null,
   "metadata": {},
   "outputs": [],
   "source": [
    "%%time\n",
    "mlp_energy_dist_matrix = clustering.compute_energy_dists(mlp_sis)\n",
    "clustering.save_matrix(mlp_energy_dist_matrix, mlp_only_energy_dist_file)"
   ]
  },
  {
   "cell_type": "code",
   "execution_count": 98,
   "metadata": {},
   "outputs": [],
   "source": [
    "mlp_energy_dist_matrix = clustering.load_matrix(mlp_only_energy_dist_file)"
   ]
  },
  {
   "cell_type": "code",
   "execution_count": 103,
   "metadata": {},
   "outputs": [
    {
     "name": "stdout",
     "output_type": "stream",
     "text": [
      "Estimated number of clusters: 4\n",
      "# core samples:  586\n"
     ]
    }
   ],
   "source": [
    "cluster_to_core_idxs, cluster_to_noncore_idxs, labels = clustering.cluster(\n",
    "    mlp_energy_dist_matrix,\n",
    "    eps=0.42,\n",
    "    min_samples=20,\n",
    ")"
   ]
  },
  {
   "cell_type": "code",
   "execution_count": 104,
   "metadata": {},
   "outputs": [
    {
     "data": {
      "image/png": "[encoded data removed]",
      "text/plain": [
       "<Figure size 468x252 with 50 Axes>"
      ]
     },
     "metadata": {},
     "output_type": "display_data"
    }
   ],
   "source": [
    "clustering.visualize_mnist_clustering(\n",
    "    cluster_to_core_idxs,\n",
    "    cluster_to_noncore_idxs,\n",
    "    mlp_sis_images,\n",
    "    num_examples=10,\n",
    "    savepath=None,\n",
    "    title='Class 4 SIS Clustering (MLP model)',\n",
    ")"
   ]
  },
  {
   "cell_type": "markdown",
   "metadata": {},
   "source": [
    "## Do the two model's predict each other's SISes correctly?"
   ]
  },
  {
   "cell_type": "code",
   "execution_count": 88,
   "metadata": {},
   "outputs": [],
   "source": [
    "# Load CNN and MLP models\n",
    "\n",
    "cnn_model_path = os.path.join(MNIST_BASEDIR, 'trained_models', 'model.10-0.0266.hdf5')\n",
    "mlp_model_path = os.path.join(MNIST_BASEDIR, 'trained_mlp_models', 'model.12-0.0590.hdf5')\n",
    "\n",
    "cnn_model = tf.keras.models.load_model(cnn_model_path)\n",
    "mlp_model = tf.keras.models.load_model(mlp_model_path)"
   ]
  },
  {
   "cell_type": "code",
   "execution_count": 23,
   "metadata": {},
   "outputs": [],
   "source": [
    "def predict_for_sis_image(model, image, digit):\n",
    "    probas = model.predict(np.asarray([np.expand_dims(image, axis=-1)])).flatten()\n",
    "    return probas[digit]"
   ]
  },
  {
   "cell_type": "code",
   "execution_count": 24,
   "metadata": {},
   "outputs": [],
   "source": [
    "cnn_sis_preds_by_cnn = np.array([predict_for_sis_image(cnn_model, image, digit) for image in cnn_sis_images])\n",
    "cnn_sis_preds_by_mlp = np.array([predict_for_sis_image(mlp_model, image, digit) for image in cnn_sis_images])\n",
    "\n",
    "mlp_sis_preds_by_cnn = np.array([predict_for_sis_image(cnn_model, image, digit) for image in mlp_sis_images])\n",
    "mlp_sis_preds_by_mlp = np.array([predict_for_sis_image(mlp_model, image, digit) for image in mlp_sis_images])\n",
    "\n",
    "assert(np.all(cnn_sis_preds_by_cnn >= 0.7))\n",
    "assert(np.all(mlp_sis_preds_by_mlp >= 0.7))"
   ]
  },
  {
   "cell_type": "code",
   "execution_count": 48,
   "metadata": {},
   "outputs": [],
   "source": [
    "columns = ['method', 'predictions']\n",
    "\n",
    "rationale_len_df = pd.DataFrame.from_dict({'MLP SIS Preds by MLP': mlp_sis_preds_by_mlp,\n",
    "                                           'CNN SIS Preds by CNN': cnn_sis_preds_by_cnn,\n",
    "                                           'CNN SIS Preds by MLP': cnn_sis_preds_by_mlp,\n",
    "                                           'MLP SIS Preds by CNN': mlp_sis_preds_by_cnn,},\n",
    "                                          orient='index').transpose()"
   ]
  },
  {
   "cell_type": "code",
   "execution_count": 59,
   "metadata": {},
   "outputs": [
    {
     "data": {
      "image/png": "[encoded data removed]",
      "text/plain": [
       "<Figure size 396x198 with 1 Axes>"
      ]
     },
     "metadata": {},
     "output_type": "display_data"
    }
   ],
   "source": [
    "plt.figure(figsize=(5.5, 2.75))\n",
    "sns.boxplot(data=rationale_len_df, orient='h', order=[\n",
    "    'MLP SIS Preds by MLP',\n",
    "    'CNN SIS Preds by CNN',\n",
    "    'CNN SIS Preds by MLP',\n",
    "    'MLP SIS Preds by CNN'],\n",
    "            palette=sns.color_palette())\n",
    "plt.xlabel('Prediction')\n",
    "plt.tight_layout()\n",
    "plt.savefig(os.path.join(figures_dir, 'sis_preds_by_other_models_digit4.png'), dpi=200, bbox_inches='tight')\n",
    "plt.show()"
   ]
  },
  {
   "cell_type": "code",
   "execution_count": 30,
   "metadata": {},
   "outputs": [],
   "source": [
    "def frac_above_threshold(preds, threshold):\n",
    "    count_above = np.sum(np.asarray(np.asarray(preds) >= threshold, dtype=int))\n",
    "    return float(count_above) / len(preds)"
   ]
  },
  {
   "cell_type": "code",
   "execution_count": 36,
   "metadata": {},
   "outputs": [
    {
     "name": "stdout",
     "output_type": "stream",
     "text": [
      "Max CNN SIS pred by MLP:  0.411\n",
      "Mean CNN SIS pred by MLP:  0.028\n",
      "Frac CNN SIS pred by MLP above threshold:  0.000\n",
      "\n",
      "Max MLP SIS pred by CNN:  0.972\n",
      "Mean MLP SIS pred by CNN:  0.311\n",
      "Frac MLP SIS pred by CNN above threshold:  0.038\n"
     ]
    }
   ],
   "source": [
    "print('Max CNN SIS pred by MLP:  %.3f' % np.max(cnn_sis_preds_by_mlp))\n",
    "print('Mean CNN SIS pred by MLP:  %.3f' % np.mean(cnn_sis_preds_by_mlp))\n",
    "print('Frac CNN SIS pred by MLP above threshold:  %.3f' % frac_above_threshold(cnn_sis_preds_by_mlp, 0.7))\n",
    "print('')\n",
    "print('Max MLP SIS pred by CNN:  %.3f' % np.max(mlp_sis_preds_by_cnn))\n",
    "print('Mean MLP SIS pred by CNN:  %.3f' % np.mean(mlp_sis_preds_by_cnn))\n",
    "print('Frac MLP SIS pred by CNN above threshold:  %.3f' % frac_above_threshold(mlp_sis_preds_by_cnn, 0.7))"
   ]
  },
  {
   "cell_type": "markdown",
   "metadata": {},
   "source": [
    "## Comparison in performance between CNN and MLP"
   ]
  },
  {
   "cell_type": "code",
   "execution_count": 90,
   "metadata": {},
   "outputs": [],
   "source": [
    "def load_x_from_file(fpath, shape=(28, 28, 1)):\n",
    "    x_ravel = np.loadtxt(fpath)\n",
    "    x = np.array([np.reshape(x_ravel[i], shape, order='C') for i in range(x_ravel.shape[0])])\n",
    "    return x\n",
    "\n",
    "def load_y_from_file(fpath):\n",
    "    y = np.loadtxt(fpath)\n",
    "    return y"
   ]
  },
  {
   "cell_type": "code",
   "execution_count": 91,
   "metadata": {},
   "outputs": [],
   "source": [
    "# Load processed data from files\n",
    "\n",
    "x_train_filepath = os.path.join(DATA_DIR, 'x_train.txt.gz')\n",
    "x_test_filepath = os.path.join(DATA_DIR, 'x_test.txt.gz')\n",
    "y_train_filepath = os.path.join(DATA_DIR, 'y_train.txt.gz')\n",
    "y_test_filepath = os.path.join(DATA_DIR, 'y_test.txt.gz')\n",
    "\n",
    "\n",
    "x_train = load_x_from_file(x_train_filepath)\n",
    "x_test = load_x_from_file(x_test_filepath)\n",
    "\n",
    "y_train = load_y_from_file(y_train_filepath)\n",
    "y_test = load_y_from_file(y_test_filepath)"
   ]
  },
  {
   "cell_type": "code",
   "execution_count": 92,
   "metadata": {},
   "outputs": [
    {
     "name": "stdout",
     "output_type": "stream",
     "text": [
      "CNN Train loss:  0.010\n",
      "CNN Train accuracy:  0.997\n",
      "\n",
      "MLP Train loss:  0.011\n",
      "MLP Train accuracy:  0.997\n"
     ]
    }
   ],
   "source": [
    "cnn_score = cnn_model.evaluate(x_train, y_train, verbose=0)\n",
    "print('CNN Train loss:  %.3f' % cnn_score[0])\n",
    "print('CNN Train accuracy:  %.3f' % cnn_score[1])\n",
    "print('')\n",
    "\n",
    "mlp_score = mlp_model.evaluate(x_train, y_train, verbose=0)\n",
    "print('MLP Train loss:  %.3f' % mlp_score[0])\n",
    "print('MLP Train accuracy:  %.3f' % mlp_score[1])"
   ]
  },
  {
   "cell_type": "code",
   "execution_count": 93,
   "metadata": {
    "scrolled": true
   },
   "outputs": [
    {
     "name": "stdout",
     "output_type": "stream",
     "text": [
      "CNN Test loss:  0.027\n",
      "CNN Test accuracy:  0.992\n",
      "\n",
      "MLP Test loss:  0.059\n",
      "MLP Test accuracy:  0.983\n"
     ]
    }
   ],
   "source": [
    "cnn_score = cnn_model.evaluate(x_test, y_test, verbose=0)\n",
    "print('CNN Test loss:  %.3f' % cnn_score[0])\n",
    "print('CNN Test accuracy:  %.3f' % cnn_score[1])\n",
    "print('')\n",
    "\n",
    "mlp_score = mlp_model.evaluate(x_test, y_test, verbose=0)\n",
    "print('MLP Test loss:  %.3f' % mlp_score[0])\n",
    "print('MLP Test accuracy:  %.3f' % mlp_score[1])"
   ]
  }
 ],
 "metadata": {
  "kernelspec": {
   "display_name": "Python 3",
   "language": "python",
   "name": "python3"
  },
  "language_info": {
   "codemirror_mode": {
    "name": "ipython",
    "version": 3
   },
   "file_extension": ".py",
   "mimetype": "text/x-python",
   "name": "python",
   "nbconvert_exporter": "python",
   "pygments_lexer": "ipython3",
   "version": "3.6.8"
  }
 },
 "nbformat": 4,
 "nbformat_minor": 2
}
