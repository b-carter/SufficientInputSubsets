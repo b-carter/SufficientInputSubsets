{
 "cells": [
  {
   "cell_type": "markdown",
   "metadata": {},
   "source": [
    "# Clustering TF Binding Data Rationales"
   ]
  },
  {
   "cell_type": "code",
   "execution_count": 1,
   "metadata": {},
   "outputs": [],
   "source": [
    "import os\n",
    "import numpy as np\n",
    "from collections import defaultdict\n",
    "\n",
    "from sklearn.cluster import DBSCAN"
   ]
  },
  {
   "cell_type": "code",
   "execution_count": 6,
   "metadata": {},
   "outputs": [],
   "source": [
    "DATASET = 'wgEncodeAwgTfbsSydhK562MaffIggrabUniPk'\n",
    "\n",
    "DATASET_PATH = os.path.join('../rationale_results/motif/motif_occupancy', DATASET)\n",
    "DIST_MATRIX_FILENAME = 'rationales_greedy_dists.txt.gz'\n",
    "RATIONALES_FILENAME = 'rationales_greedy.txt'\n",
    "\n",
    "KNOWN_MOTIFS_MAP_PATH = '../data/motif/known_motifs/map'\n",
    "KNOWN_MOTIFS_MEME_PATH = '../data/motif/known_motifs/ENCODEmotif'"
   ]
  },
  {
   "cell_type": "code",
   "execution_count": 7,
   "metadata": {},
   "outputs": [],
   "source": [
    "def load_motifs_map(path):\n",
    "    motifs_map = {}\n",
    "    with open(path, 'r') as f:\n",
    "        for line in f:\n",
    "            motif, loc = line.strip().split()\n",
    "            motifs_map[motif] = loc\n",
    "    return motifs_map\n",
    "\n",
    "def parse_meme(filepath, replace_zeros_eps=None):\n",
    "    res = []\n",
    "    with open(filepath, 'r') as f:\n",
    "        for line in f:\n",
    "            line = line.strip()\n",
    "            data = line.split('\\t')\n",
    "            if len(data) != 4:  # line does not contain floats, not part of matrix\n",
    "                continue\n",
    "            vals = [float(x.strip()) for x in data]\n",
    "            res.append(vals)\n",
    "    res = np.array(res, dtype='float32')\n",
    "    if replace_zeros_eps is not None:\n",
    "        res[res == 0] = replace_zeros_eps\n",
    "        res = res / np.linalg.norm(res, axis=1, ord=1, keepdims=True)\n",
    "    return res"
   ]
  },
  {
   "cell_type": "code",
   "execution_count": 8,
   "metadata": {},
   "outputs": [],
   "source": [
    "motifs_map = load_motifs_map(KNOWN_MOTIFS_MAP_PATH)\n",
    "meme_path = os.path.join(KNOWN_MOTIFS_MEME_PATH, motifs_map[DATASET])\n",
    "motif = parse_meme(meme_path, replace_zeros_eps=1e-6)"
   ]
  },
  {
   "cell_type": "markdown",
   "metadata": {},
   "source": [
    "## Load distance matrix and rationales"
   ]
  },
  {
   "cell_type": "code",
   "execution_count": 10,
   "metadata": {},
   "outputs": [],
   "source": [
    "def load_distance_matrix(filepath):\n",
    "    dists = np.loadtxt(filepath, dtype=int)\n",
    "    return dists\n",
    "\n",
    "def load_rationales(filepath):\n",
    "    rationales = []\n",
    "    with open(filepath, 'r') as f:\n",
    "        for line in f:\n",
    "            line = line.strip()\n",
    "            if line == '':\n",
    "                continue\n",
    "            # line consists of \"i [rationale]\"\n",
    "            rationale = line.split(' ')[-1]\n",
    "            rationales.append(rationale)\n",
    "    return rationales"
   ]
  },
  {
   "cell_type": "code",
   "execution_count": 11,
   "metadata": {},
   "outputs": [
    {
     "name": "stdout",
     "output_type": "stream",
     "text": [
      "Loaded 2110 rationales and distance matrix.\n"
     ]
    }
   ],
   "source": [
    "dist_matrix_filepath = os.path.join(DATASET_PATH, DIST_MATRIX_FILENAME)\n",
    "dists = load_distance_matrix(dist_matrix_filepath)\n",
    "\n",
    "rationales_filepath = os.path.join(DATASET_PATH, RATIONALES_FILENAME)\n",
    "rationales = load_rationales(rationales_filepath)\n",
    "\n",
    "assert(len(rationales) == dists.shape[0] == dists.shape[1])\n",
    "\n",
    "print('Loaded %d rationales and distance matrix.' % len(rationales))"
   ]
  },
  {
   "cell_type": "markdown",
   "metadata": {},
   "source": [
    "## DBSCAN Clustering"
   ]
  },
  {
   "cell_type": "code",
   "execution_count": 12,
   "metadata": {},
   "outputs": [
    {
     "name": "stdout",
     "output_type": "stream",
     "text": [
      "Distance matrix median:  10.0\n"
     ]
    }
   ],
   "source": [
    "print('Distance matrix median: ', np.median(dists))"
   ]
  },
  {
   "cell_type": "code",
   "execution_count": 13,
   "metadata": {},
   "outputs": [
    {
     "name": "stdout",
     "output_type": "stream",
     "text": [
      "Estimated number of clusters: 2\n",
      "[-1 -1 -1 ... -1  0 -1]\n"
     ]
    }
   ],
   "source": [
    "# Compute DBSCAN\n",
    "db = DBSCAN(eps=2.0, min_samples=46, metric='precomputed').fit(dists)\n",
    "core_samples_mask = np.zeros_like(db.labels_, dtype=bool)\n",
    "core_samples_mask[db.core_sample_indices_] = True\n",
    "labels = db.labels_\n",
    "\n",
    "# Number of clusters in labels, ignoring noise if present.\n",
    "n_clusters_ = len(set(labels)) - (1 if -1 in labels else 0)\n",
    "\n",
    "print('Estimated number of clusters: %d' % n_clusters_)\n",
    "\n",
    "print(labels)"
   ]
  },
  {
   "cell_type": "code",
   "execution_count": 14,
   "metadata": {},
   "outputs": [],
   "source": [
    "# Dump the clusters: highlight core sample rationales in each cluster, followed by random examples in cluser\n",
    "\n",
    "core_sample_idxs = np.arange(len(core_samples_mask))[core_samples_mask]\n",
    "cluster_label_to_core_sample_idxs = defaultdict(list)\n",
    "for i in core_sample_idxs:\n",
    "    label = labels[i]\n",
    "    cluster_label_to_core_sample_idxs[label].append(i)\n",
    "\n",
    "cluster_label_to_cluster = defaultdict(list)\n",
    "for i in range(dists.shape[0]):\n",
    "    label = labels[i]\n",
    "    cluster_label_to_cluster[label].append(i)\n",
    "\n",
    "cluster_label_to_rationale_freqs = defaultdict(lambda: defaultdict(int))\n",
    "for i in range(dists.shape[0]):\n",
    "    label = labels[i]\n",
    "    rationale = rationales[i].replace('N', '-').strip('-')\n",
    "    cluster_label_to_rationale_freqs[label][rationale] += 1"
   ]
  },
  {
   "cell_type": "code",
   "execution_count": 15,
   "metadata": {
    "scrolled": false
   },
   "outputs": [
    {
     "name": "stdout",
     "output_type": "stream",
     "text": [
      "--NOISE--\n",
      "G-TGACTCAGCA--T\t\t14\n",
      "AAA-TGC----TCAGCA--A\t\t9\n",
      "AAA-TGC---GTCAGC\t\t8\n",
      "AAA-TGC----TCAGCA--T\t\t8\n",
      "TGCTGACTCA-C---T\t\t7\n",
      "TGCTGA-TCAGC---T\t\t7\n",
      "A--TGCTGA----GCA-ATT\t\t7\n",
      "GCTGACTCAGC---T\t\t6\n",
      "AAT-TGC---GTCAGC\t\t6\n",
      "A--TGC--AGTCATC\t\t6\n",
      "A--TG-TGAGTCAGC\t\t6\n",
      "TT-TGC---GTCAGC--TT\t\t5\n",
      "TGCTGACTCA-CA--A\t\t5\n",
      "TGACTCAGCA-AA\t\t5\n",
      "TGCTGA-TCA-CA-AA\t\t4\n",
      "\n",
      "--Cluster 0--\n",
      "GCTGAGTCAT\t\t197\n",
      "ATGACTCAGC\t\t185\n",
      "GCTGAGTCA-C\t\t83\n",
      "GCTGAGTCAC\t\t53\n",
      "GCTGACTCAGCA\t\t42\n",
      "TGCTGA-TCAT\t\t32\n",
      "TGCTGAGTCA\t\t30\n",
      "TGCTGA-TCAGCA\t\t25\n",
      "GTGACTCAGCA\t\t15\n",
      "G-TGAGTCATC\t\t15\n",
      "TG-TGAGTCAT\t\t13\n",
      "TGCTG-GTCAT\t\t12\n",
      "CGCTGAGTCA\t\t11\n",
      "ATGAC-CAGCA-A\t\t11\n",
      "ATGA-TCAGCA-A\t\t11\n",
      "\n",
      "--Cluster 1--\n",
      "TGCTGA----GCA-TTT\t\t12\n",
      "GCTGAC---GCA-TTT\t\t8\n",
      "TGCTGAC---GCA-TT\t\t6\n",
      "TGCTGAC---GCA-AA\t\t5\n",
      "TGCTGAC---GCA-AT\t\t4\n",
      "GCTGAC---GCA-TAT\t\t3\n",
      "GCTGAC---GCA-ATT\t\t3\n",
      "TGCTGAC---GCA-TA\t\t2\n",
      "TGCTGAC---GCA--ATT\t\t1\n",
      "GCTGAC---GCA-AT\t\t1\n",
      "CGCTGAC---GCA-AT\t\t1\n",
      "\n"
     ]
    }
   ],
   "source": [
    "max_num_to_print_per_cluster = 15\n",
    "\n",
    "for label, freq_dict in sorted(cluster_label_to_rationale_freqs.items(), key=lambda kv: kv[0]):\n",
    "    if label == -1:\n",
    "        print('--NOISE--')\n",
    "    else:\n",
    "        print('--Cluster %d--' % label)\n",
    "    num_printed = 0\n",
    "    for rationale, freq in sorted(freq_dict.items(), reverse=True, key=lambda kv: (kv[1], kv[0])):\n",
    "        print('%s\\t\\t%d' % (rationale, freq))\n",
    "        num_printed += 1\n",
    "        if num_printed == max_num_to_print_per_cluster:\n",
    "            break\n",
    "    print()"
   ]
  }
 ],
 "metadata": {
  "kernelspec": {
   "display_name": "Python 3",
   "language": "python",
   "name": "python3"
  },
  "language_info": {
   "codemirror_mode": {
    "name": "ipython",
    "version": 3
   },
   "file_extension": ".py",
   "mimetype": "text/x-python",
   "name": "python",
   "nbconvert_exporter": "python",
   "pygments_lexer": "ipython3",
   "version": "3.6.5"
  }
 },
 "nbformat": 4,
 "nbformat_minor": 2
}
